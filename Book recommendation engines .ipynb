{
 "cells": [
  {
   "cell_type": "code",
   "execution_count": 122,
   "metadata": {},
   "outputs": [],
   "source": [
    "import pandas as pd\n",
    "import numpy as np\n",
    "import matplotlib.pyplot as plt\n",
    "%matplotlib inline\n",
    "import os\n",
    "import warnings\n",
    "warnings.filterwarnings(\"ignore\")\n",
    "import seaborn as sns\n",
    "import surprise"
   ]
  },
  {
   "cell_type": "code",
   "execution_count": 55,
   "metadata": {},
   "outputs": [],
   "source": [
    "os.chdir(\"E:\\Python for MLAI\\JIGSAW\\Projects\\Project-7 Recommendation Engines\")"
   ]
  },
  {
   "cell_type": "markdown",
   "metadata": {},
   "source": [
    "###### lets Import the data files into the jupyter notebook"
   ]
  },
  {
   "cell_type": "code",
   "execution_count": 56,
   "metadata": {},
   "outputs": [],
   "source": [
    "books=pd.read_csv(\"BX-Books.csv\",sep=';',error_bad_lines=False,warn_bad_lines=False,encoding='latin-1')\n",
    "users=pd.read_csv(\"BX-Users.csv\",sep=';',error_bad_lines=False,encoding='latin-1')\n",
    "rating=pd.read_csv(\"BX-Book-Ratings.csv\",sep=';',error_bad_lines=False,encoding='latin-1')"
   ]
  },
  {
   "cell_type": "code",
   "execution_count": 57,
   "metadata": {},
   "outputs": [
    {
     "name": "stdout",
     "output_type": "stream",
     "text": [
      "Index(['ISBN', 'Book-Title', 'Book-Author', 'Year-Of-Publication', 'Publisher',\n",
      "       'Image-URL-S', 'Image-URL-M', 'Image-URL-L'],\n",
      "      dtype='object')\n",
      "Index(['User-ID', 'Location', 'Age'], dtype='object')\n",
      "Index(['User-ID', 'ISBN', 'Book-Rating'], dtype='object')\n"
     ]
    }
   ],
   "source": [
    "#now look at the columns that our data has.\n",
    "print(books.columns)\n",
    "print(users.columns)\n",
    "print(rating.columns)"
   ]
  },
  {
   "cell_type": "code",
   "execution_count": 58,
   "metadata": {},
   "outputs": [
    {
     "name": "stdout",
     "output_type": "stream",
     "text": [
      "(271360, 8)\n",
      "(278858, 3)\n",
      "(1149780, 3)\n"
     ]
    }
   ],
   "source": [
    "#look at the shape of the dataset.\n",
    "print(books.shape)\n",
    "print(users.shape)\n",
    "print(rating.shape)"
   ]
  },
  {
   "cell_type": "markdown",
   "metadata": {},
   "source": [
    "###### Lets Explore the file wise data, firstly we will go through the book data, will clean and apply manupulations to it."
   ]
  },
  {
   "cell_type": "code",
   "execution_count": 59,
   "metadata": {},
   "outputs": [
    {
     "data": {
      "text/html": [
       "<div>\n",
       "<style scoped>\n",
       "    .dataframe tbody tr th:only-of-type {\n",
       "        vertical-align: middle;\n",
       "    }\n",
       "\n",
       "    .dataframe tbody tr th {\n",
       "        vertical-align: top;\n",
       "    }\n",
       "\n",
       "    .dataframe thead th {\n",
       "        text-align: right;\n",
       "    }\n",
       "</style>\n",
       "<table border=\"1\" class=\"dataframe\">\n",
       "  <thead>\n",
       "    <tr style=\"text-align: right;\">\n",
       "      <th></th>\n",
       "      <th>ISBN</th>\n",
       "      <th>Book-Title</th>\n",
       "      <th>Book-Author</th>\n",
       "      <th>Year-Of-Publication</th>\n",
       "      <th>Publisher</th>\n",
       "      <th>Image-URL-S</th>\n",
       "      <th>Image-URL-M</th>\n",
       "      <th>Image-URL-L</th>\n",
       "    </tr>\n",
       "  </thead>\n",
       "  <tbody>\n",
       "    <tr>\n",
       "      <th>0</th>\n",
       "      <td>0195153448</td>\n",
       "      <td>Classical Mythology</td>\n",
       "      <td>Mark P. O. Morford</td>\n",
       "      <td>2002</td>\n",
       "      <td>Oxford University Press</td>\n",
       "      <td>http://images.amazon.com/images/P/0195153448.01.THUMBZZZ.jpg</td>\n",
       "      <td>http://images.amazon.com/images/P/0195153448.01.MZZZZZZZ.jpg</td>\n",
       "      <td>http://images.amazon.com/images/P/0195153448.01.LZZZZZZZ.jpg</td>\n",
       "    </tr>\n",
       "    <tr>\n",
       "      <th>1</th>\n",
       "      <td>0002005018</td>\n",
       "      <td>Clara Callan</td>\n",
       "      <td>Richard Bruce Wright</td>\n",
       "      <td>2001</td>\n",
       "      <td>HarperFlamingo Canada</td>\n",
       "      <td>http://images.amazon.com/images/P/0002005018.01.THUMBZZZ.jpg</td>\n",
       "      <td>http://images.amazon.com/images/P/0002005018.01.MZZZZZZZ.jpg</td>\n",
       "      <td>http://images.amazon.com/images/P/0002005018.01.LZZZZZZZ.jpg</td>\n",
       "    </tr>\n",
       "    <tr>\n",
       "      <th>2</th>\n",
       "      <td>0060973129</td>\n",
       "      <td>Decision in Normandy</td>\n",
       "      <td>Carlo D'Este</td>\n",
       "      <td>1991</td>\n",
       "      <td>HarperPerennial</td>\n",
       "      <td>http://images.amazon.com/images/P/0060973129.01.THUMBZZZ.jpg</td>\n",
       "      <td>http://images.amazon.com/images/P/0060973129.01.MZZZZZZZ.jpg</td>\n",
       "      <td>http://images.amazon.com/images/P/0060973129.01.LZZZZZZZ.jpg</td>\n",
       "    </tr>\n",
       "    <tr>\n",
       "      <th>3</th>\n",
       "      <td>0374157065</td>\n",
       "      <td>Flu: The Story of the Great Influenza Pandemic of 1918 and the Search for the Virus That Caused It</td>\n",
       "      <td>Gina Bari Kolata</td>\n",
       "      <td>1999</td>\n",
       "      <td>Farrar Straus Giroux</td>\n",
       "      <td>http://images.amazon.com/images/P/0374157065.01.THUMBZZZ.jpg</td>\n",
       "      <td>http://images.amazon.com/images/P/0374157065.01.MZZZZZZZ.jpg</td>\n",
       "      <td>http://images.amazon.com/images/P/0374157065.01.LZZZZZZZ.jpg</td>\n",
       "    </tr>\n",
       "    <tr>\n",
       "      <th>4</th>\n",
       "      <td>0393045218</td>\n",
       "      <td>The Mummies of Urumchi</td>\n",
       "      <td>E. J. W. Barber</td>\n",
       "      <td>1999</td>\n",
       "      <td>W. W. Norton &amp;amp; Company</td>\n",
       "      <td>http://images.amazon.com/images/P/0393045218.01.THUMBZZZ.jpg</td>\n",
       "      <td>http://images.amazon.com/images/P/0393045218.01.MZZZZZZZ.jpg</td>\n",
       "      <td>http://images.amazon.com/images/P/0393045218.01.LZZZZZZZ.jpg</td>\n",
       "    </tr>\n",
       "  </tbody>\n",
       "</table>\n",
       "</div>"
      ],
      "text/plain": [
       "         ISBN  \\\n",
       "0  0195153448   \n",
       "1  0002005018   \n",
       "2  0060973129   \n",
       "3  0374157065   \n",
       "4  0393045218   \n",
       "\n",
       "                                                                                           Book-Title  \\\n",
       "0  Classical Mythology                                                                                  \n",
       "1  Clara Callan                                                                                         \n",
       "2  Decision in Normandy                                                                                 \n",
       "3  Flu: The Story of the Great Influenza Pandemic of 1918 and the Search for the Virus That Caused It   \n",
       "4  The Mummies of Urumchi                                                                               \n",
       "\n",
       "            Book-Author Year-Of-Publication                   Publisher  \\\n",
       "0  Mark P. O. Morford    2002                Oxford University Press      \n",
       "1  Richard Bruce Wright  2001                HarperFlamingo Canada        \n",
       "2  Carlo D'Este          1991                HarperPerennial              \n",
       "3  Gina Bari Kolata      1999                Farrar Straus Giroux         \n",
       "4  E. J. W. Barber       1999                W. W. Norton &amp; Company   \n",
       "\n",
       "                                                    Image-URL-S  \\\n",
       "0  http://images.amazon.com/images/P/0195153448.01.THUMBZZZ.jpg   \n",
       "1  http://images.amazon.com/images/P/0002005018.01.THUMBZZZ.jpg   \n",
       "2  http://images.amazon.com/images/P/0060973129.01.THUMBZZZ.jpg   \n",
       "3  http://images.amazon.com/images/P/0374157065.01.THUMBZZZ.jpg   \n",
       "4  http://images.amazon.com/images/P/0393045218.01.THUMBZZZ.jpg   \n",
       "\n",
       "                                                    Image-URL-M  \\\n",
       "0  http://images.amazon.com/images/P/0195153448.01.MZZZZZZZ.jpg   \n",
       "1  http://images.amazon.com/images/P/0002005018.01.MZZZZZZZ.jpg   \n",
       "2  http://images.amazon.com/images/P/0060973129.01.MZZZZZZZ.jpg   \n",
       "3  http://images.amazon.com/images/P/0374157065.01.MZZZZZZZ.jpg   \n",
       "4  http://images.amazon.com/images/P/0393045218.01.MZZZZZZZ.jpg   \n",
       "\n",
       "                                                    Image-URL-L  \n",
       "0  http://images.amazon.com/images/P/0195153448.01.LZZZZZZZ.jpg  \n",
       "1  http://images.amazon.com/images/P/0002005018.01.LZZZZZZZ.jpg  \n",
       "2  http://images.amazon.com/images/P/0060973129.01.LZZZZZZZ.jpg  \n",
       "3  http://images.amazon.com/images/P/0374157065.01.LZZZZZZZ.jpg  \n",
       "4  http://images.amazon.com/images/P/0393045218.01.LZZZZZZZ.jpg  "
      ]
     },
     "execution_count": 59,
     "metadata": {},
     "output_type": "execute_result"
    }
   ],
   "source": [
    "books.head()"
   ]
  },
  {
   "cell_type": "code",
   "execution_count": 60,
   "metadata": {},
   "outputs": [
    {
     "data": {
      "text/plain": [
       "Index(['ISBN', 'Book-Title', 'Book-Author', 'Year-Of-Publication', 'Publisher',\n",
       "       'Image-URL-S', 'Image-URL-M', 'Image-URL-L'],\n",
       "      dtype='object')"
      ]
     },
     "execution_count": 60,
     "metadata": {},
     "output_type": "execute_result"
    }
   ],
   "source": [
    "books.columns"
   ]
  },
  {
   "cell_type": "code",
   "execution_count": 61,
   "metadata": {},
   "outputs": [],
   "source": [
    "#as the url columns is not of our use then it will be good to drop these columns.\n",
    "books=books.drop(['Image-URL-S', 'Image-URL-M', 'Image-URL-L'],axis=1)"
   ]
  },
  {
   "cell_type": "code",
   "execution_count": 62,
   "metadata": {},
   "outputs": [
    {
     "data": {
      "text/html": [
       "<div>\n",
       "<style scoped>\n",
       "    .dataframe tbody tr th:only-of-type {\n",
       "        vertical-align: middle;\n",
       "    }\n",
       "\n",
       "    .dataframe tbody tr th {\n",
       "        vertical-align: top;\n",
       "    }\n",
       "\n",
       "    .dataframe thead th {\n",
       "        text-align: right;\n",
       "    }\n",
       "</style>\n",
       "<table border=\"1\" class=\"dataframe\">\n",
       "  <thead>\n",
       "    <tr style=\"text-align: right;\">\n",
       "      <th></th>\n",
       "      <th>ISBN</th>\n",
       "      <th>Book-Title</th>\n",
       "      <th>Book-Author</th>\n",
       "      <th>Year-Of-Publication</th>\n",
       "      <th>Publisher</th>\n",
       "    </tr>\n",
       "  </thead>\n",
       "  <tbody>\n",
       "    <tr>\n",
       "      <th>0</th>\n",
       "      <td>0195153448</td>\n",
       "      <td>Classical Mythology</td>\n",
       "      <td>Mark P. O. Morford</td>\n",
       "      <td>2002</td>\n",
       "      <td>Oxford University Press</td>\n",
       "    </tr>\n",
       "    <tr>\n",
       "      <th>1</th>\n",
       "      <td>0002005018</td>\n",
       "      <td>Clara Callan</td>\n",
       "      <td>Richard Bruce Wright</td>\n",
       "      <td>2001</td>\n",
       "      <td>HarperFlamingo Canada</td>\n",
       "    </tr>\n",
       "    <tr>\n",
       "      <th>2</th>\n",
       "      <td>0060973129</td>\n",
       "      <td>Decision in Normandy</td>\n",
       "      <td>Carlo D'Este</td>\n",
       "      <td>1991</td>\n",
       "      <td>HarperPerennial</td>\n",
       "    </tr>\n",
       "    <tr>\n",
       "      <th>3</th>\n",
       "      <td>0374157065</td>\n",
       "      <td>Flu: The Story of the Great Influenza Pandemic of 1918 and the Search for the Virus That Caused It</td>\n",
       "      <td>Gina Bari Kolata</td>\n",
       "      <td>1999</td>\n",
       "      <td>Farrar Straus Giroux</td>\n",
       "    </tr>\n",
       "    <tr>\n",
       "      <th>4</th>\n",
       "      <td>0393045218</td>\n",
       "      <td>The Mummies of Urumchi</td>\n",
       "      <td>E. J. W. Barber</td>\n",
       "      <td>1999</td>\n",
       "      <td>W. W. Norton &amp;amp; Company</td>\n",
       "    </tr>\n",
       "  </tbody>\n",
       "</table>\n",
       "</div>"
      ],
      "text/plain": [
       "         ISBN  \\\n",
       "0  0195153448   \n",
       "1  0002005018   \n",
       "2  0060973129   \n",
       "3  0374157065   \n",
       "4  0393045218   \n",
       "\n",
       "                                                                                           Book-Title  \\\n",
       "0  Classical Mythology                                                                                  \n",
       "1  Clara Callan                                                                                         \n",
       "2  Decision in Normandy                                                                                 \n",
       "3  Flu: The Story of the Great Influenza Pandemic of 1918 and the Search for the Virus That Caused It   \n",
       "4  The Mummies of Urumchi                                                                               \n",
       "\n",
       "            Book-Author Year-Of-Publication                   Publisher  \n",
       "0  Mark P. O. Morford    2002                Oxford University Press     \n",
       "1  Richard Bruce Wright  2001                HarperFlamingo Canada       \n",
       "2  Carlo D'Este          1991                HarperPerennial             \n",
       "3  Gina Bari Kolata      1999                Farrar Straus Giroux        \n",
       "4  E. J. W. Barber       1999                W. W. Norton &amp; Company  "
      ]
     },
     "execution_count": 62,
     "metadata": {},
     "output_type": "execute_result"
    }
   ],
   "source": [
    "books.head()"
   ]
  },
  {
   "cell_type": "code",
   "execution_count": 18,
   "metadata": {},
   "outputs": [
    {
     "data": {
      "text/plain": [
       "ISBN                   object\n",
       "Book-Title             object\n",
       "Book-Author            object\n",
       "Year-Of-Publication    object\n",
       "Publisher              object\n",
       "dtype: object"
      ]
     },
     "execution_count": 18,
     "metadata": {},
     "output_type": "execute_result"
    }
   ],
   "source": [
    "books.dtypes"
   ]
  },
  {
   "cell_type": "code",
   "execution_count": 19,
   "metadata": {},
   "outputs": [],
   "source": [
    "pd.set_option(\"display.max_colwidth\",-1)"
   ]
  },
  {
   "cell_type": "code",
   "execution_count": 20,
   "metadata": {},
   "outputs": [
    {
     "data": {
      "text/plain": [
       "array([2002, 2001, 1991, 1999, 2000, 1993, 1996, 1988, 2004, 1998, 1994,\n",
       "       2003, 1997, 1983, 1979, 1995, 1982, 1985, 1992, 1986, 1978, 1980,\n",
       "       1952, 1987, 1990, 1981, 1989, 1984, 0, 1968, 1961, 1958, 1974,\n",
       "       1976, 1971, 1977, 1975, 1965, 1941, 1970, 1962, 1973, 1972, 1960,\n",
       "       1966, 1920, 1956, 1959, 1953, 1951, 1942, 1963, 1964, 1969, 1954,\n",
       "       1950, 1967, 2005, 1957, 1940, 1937, 1955, 1946, 1936, 1930, 2011,\n",
       "       1925, 1948, 1943, 1947, 1945, 1923, 2020, 1939, 1926, 1938, 2030,\n",
       "       1911, 1904, 1949, 1932, 1928, 1929, 1927, 1931, 1914, 2050, 1934,\n",
       "       1910, 1933, 1902, 1924, 1921, 1900, 2038, 2026, 1944, 1917, 1901,\n",
       "       2010, 1908, 1906, 1935, 1806, 2021, '2000', '1995', '1999', '2004',\n",
       "       '2003', '1990', '1994', '1986', '1989', '2002', '1981', '1993',\n",
       "       '1983', '1982', '1976', '1991', '1977', '1998', '1992', '1996',\n",
       "       '0', '1997', '2001', '1974', '1968', '1987', '1984', '1988',\n",
       "       '1963', '1956', '1970', '1985', '1978', '1973', '1980', '1979',\n",
       "       '1975', '1969', '1961', '1965', '1939', '1958', '1950', '1953',\n",
       "       '1966', '1971', '1959', '1972', '1955', '1957', '1945', '1960',\n",
       "       '1967', '1932', '1924', '1964', '2012', '1911', '1927', '1948',\n",
       "       '1962', '2006', '1952', '1940', '1951', '1931', '1954', '2005',\n",
       "       '1930', '1941', '1944', 'DK Publishing Inc', '1943', '1938',\n",
       "       '1900', '1942', '1923', '1920', '1933', 'Gallimard', '1909',\n",
       "       '1946', '2008', '1378', '2030', '1936', '1947', '2011', '2020',\n",
       "       '1919', '1949', '1922', '1897', '2024', '1376', '1926', '2037'],\n",
       "      dtype=object)"
      ]
     },
     "execution_count": 20,
     "metadata": {},
     "output_type": "execute_result"
    }
   ],
   "source": [
    "books['Year-Of-Publication'].unique()"
   ]
  },
  {
   "cell_type": "markdown",
   "metadata": {},
   "source": [
    "###### as we can see in our years of publications column we have the two unwanted values i.e; DK Publishing Inc and Gallimard, these entries are falsily taken and need to treat accordingly"
   ]
  },
  {
   "cell_type": "code",
   "execution_count": 63,
   "metadata": {},
   "outputs": [
    {
     "data": {
      "text/html": [
       "<div>\n",
       "<style scoped>\n",
       "    .dataframe tbody tr th:only-of-type {\n",
       "        vertical-align: middle;\n",
       "    }\n",
       "\n",
       "    .dataframe tbody tr th {\n",
       "        vertical-align: top;\n",
       "    }\n",
       "\n",
       "    .dataframe thead th {\n",
       "        text-align: right;\n",
       "    }\n",
       "</style>\n",
       "<table border=\"1\" class=\"dataframe\">\n",
       "  <thead>\n",
       "    <tr style=\"text-align: right;\">\n",
       "      <th></th>\n",
       "      <th>ISBN</th>\n",
       "      <th>Book-Title</th>\n",
       "      <th>Book-Author</th>\n",
       "      <th>Year-Of-Publication</th>\n",
       "      <th>Publisher</th>\n",
       "    </tr>\n",
       "  </thead>\n",
       "  <tbody>\n",
       "    <tr>\n",
       "      <th>209538</th>\n",
       "      <td>078946697X</td>\n",
       "      <td>DK Readers: Creating the X-Men, How It All Began (Level 4: Proficient Readers)\\\";Michael Teitelbaum\"</td>\n",
       "      <td>2000</td>\n",
       "      <td>DK Publishing Inc</td>\n",
       "      <td>http://images.amazon.com/images/P/078946697X.01.THUMBZZZ.jpg</td>\n",
       "    </tr>\n",
       "    <tr>\n",
       "      <th>221678</th>\n",
       "      <td>0789466953</td>\n",
       "      <td>DK Readers: Creating the X-Men, How Comic Books Come to Life (Level 4: Proficient Readers)\\\";James Buckley\"</td>\n",
       "      <td>2000</td>\n",
       "      <td>DK Publishing Inc</td>\n",
       "      <td>http://images.amazon.com/images/P/0789466953.01.THUMBZZZ.jpg</td>\n",
       "    </tr>\n",
       "  </tbody>\n",
       "</table>\n",
       "</div>"
      ],
      "text/plain": [
       "              ISBN  \\\n",
       "209538  078946697X   \n",
       "221678  0789466953   \n",
       "\n",
       "                                                                                                         Book-Title  \\\n",
       "209538  DK Readers: Creating the X-Men, How It All Began (Level 4: Proficient Readers)\\\";Michael Teitelbaum\"          \n",
       "221678  DK Readers: Creating the X-Men, How Comic Books Come to Life (Level 4: Proficient Readers)\\\";James Buckley\"   \n",
       "\n",
       "       Book-Author Year-Of-Publication  \\\n",
       "209538  2000        DK Publishing Inc    \n",
       "221678  2000        DK Publishing Inc    \n",
       "\n",
       "                                                           Publisher  \n",
       "209538  http://images.amazon.com/images/P/078946697X.01.THUMBZZZ.jpg  \n",
       "221678  http://images.amazon.com/images/P/0789466953.01.THUMBZZZ.jpg  "
      ]
     },
     "execution_count": 63,
     "metadata": {},
     "output_type": "execute_result"
    }
   ],
   "source": [
    "books.loc[(books['Year-Of-Publication']=='DK Publishing Inc')]"
   ]
  },
  {
   "cell_type": "code",
   "execution_count": 64,
   "metadata": {},
   "outputs": [],
   "source": [
    "books.loc[books.ISBN=='0789466953','Year-Of-Publication']=2000\n",
    "books.loc[books.ISBN=='0789466953','Book-Author']='James Buckley'\n",
    "books.loc[books.ISBN=='0789466953','Book-Title']='DK Readers: Creating the X-Men, How Comic Books Come to Life (Level 4: Proficient Readers)'\n",
    "books.loc[books.ISBN=='0789466953','Publisher']='DK Publishing Inc'"
   ]
  },
  {
   "cell_type": "code",
   "execution_count": 65,
   "metadata": {},
   "outputs": [],
   "source": [
    "books.loc[books.ISBN=='078946697X','Year-Of-Publication']=2000\n",
    "books.loc[books.ISBN=='078946697X','Book-Author']='Michael Teitelbaum'\n",
    "books.loc[books.ISBN=='078946697X','Book-Title']='DK Readers: Creating the X-Men, How It All Began (Level 4: Proficient Readers)'\n",
    "books.loc[books.ISBN=='078946697X','Publisher']='DK Publishing Inc'"
   ]
  },
  {
   "cell_type": "code",
   "execution_count": 66,
   "metadata": {},
   "outputs": [
    {
     "data": {
      "text/html": [
       "<div>\n",
       "<style scoped>\n",
       "    .dataframe tbody tr th:only-of-type {\n",
       "        vertical-align: middle;\n",
       "    }\n",
       "\n",
       "    .dataframe tbody tr th {\n",
       "        vertical-align: top;\n",
       "    }\n",
       "\n",
       "    .dataframe thead th {\n",
       "        text-align: right;\n",
       "    }\n",
       "</style>\n",
       "<table border=\"1\" class=\"dataframe\">\n",
       "  <thead>\n",
       "    <tr style=\"text-align: right;\">\n",
       "      <th></th>\n",
       "      <th>ISBN</th>\n",
       "      <th>Book-Title</th>\n",
       "      <th>Book-Author</th>\n",
       "      <th>Year-Of-Publication</th>\n",
       "      <th>Publisher</th>\n",
       "    </tr>\n",
       "  </thead>\n",
       "  <tbody>\n",
       "    <tr>\n",
       "      <th>220731</th>\n",
       "      <td>2070426769</td>\n",
       "      <td>Peuple du ciel, suivi de 'Les Bergers\\\";Jean-Marie Gustave Le ClÃ?Â©zio\"</td>\n",
       "      <td>2003</td>\n",
       "      <td>Gallimard</td>\n",
       "      <td>http://images.amazon.com/images/P/2070426769.01.THUMBZZZ.jpg</td>\n",
       "    </tr>\n",
       "  </tbody>\n",
       "</table>\n",
       "</div>"
      ],
      "text/plain": [
       "              ISBN  \\\n",
       "220731  2070426769   \n",
       "\n",
       "                                                                      Book-Title  \\\n",
       "220731  Peuple du ciel, suivi de 'Les Bergers\\\";Jean-Marie Gustave Le ClÃ?Â©zio\"   \n",
       "\n",
       "       Book-Author Year-Of-Publication  \\\n",
       "220731  2003        Gallimard            \n",
       "\n",
       "                                                           Publisher  \n",
       "220731  http://images.amazon.com/images/P/2070426769.01.THUMBZZZ.jpg  "
      ]
     },
     "execution_count": 66,
     "metadata": {},
     "output_type": "execute_result"
    }
   ],
   "source": [
    "books.loc[(books['Year-Of-Publication']=='Gallimard')]"
   ]
  },
  {
   "cell_type": "code",
   "execution_count": 67,
   "metadata": {},
   "outputs": [],
   "source": [
    "books.loc[books.ISBN=='2070426769','Year-Of-Publication']=2003\n",
    "books.loc[books.ISBN=='2070426769','Book-Author']='Jean-Marie Gustave Le ClÃ?Â©zio'\n",
    "books.loc[books.ISBN=='2070426769','Book-Title']=\"Peuple du ciel, suivi de 'Les Bergers'\"\n",
    "books.loc[books.ISBN=='078946697X','Publisher']='Gallimard'"
   ]
  },
  {
   "cell_type": "code",
   "execution_count": 68,
   "metadata": {},
   "outputs": [
    {
     "data": {
      "text/plain": [
       "array([2002, 2001, 1991, 1999, 2000, 1993, 1996, 1988, 2004, 1998, 1994,\n",
       "       2003, 1997, 1983, 1979, 1995, 1982, 1985, 1992, 1986, 1978, 1980,\n",
       "       1952, 1987, 1990, 1981, 1989, 1984, 0, 1968, 1961, 1958, 1974,\n",
       "       1976, 1971, 1977, 1975, 1965, 1941, 1970, 1962, 1973, 1972, 1960,\n",
       "       1966, 1920, 1956, 1959, 1953, 1951, 1942, 1963, 1964, 1969, 1954,\n",
       "       1950, 1967, 2005, 1957, 1940, 1937, 1955, 1946, 1936, 1930, 2011,\n",
       "       1925, 1948, 1943, 1947, 1945, 1923, 2020, 1939, 1926, 1938, 2030,\n",
       "       1911, 1904, 1949, 1932, 1928, 1929, 1927, 1931, 1914, 2050, 1934,\n",
       "       1910, 1933, 1902, 1924, 1921, 1900, 2038, 2026, 1944, 1917, 1901,\n",
       "       2010, 1908, 1906, 1935, 1806, 2021, '2000', '1995', '1999', '2004',\n",
       "       '2003', '1990', '1994', '1986', '1989', '2002', '1981', '1993',\n",
       "       '1983', '1982', '1976', '1991', '1977', '1998', '1992', '1996',\n",
       "       '0', '1997', '2001', '1974', '1968', '1987', '1984', '1988',\n",
       "       '1963', '1956', '1970', '1985', '1978', '1973', '1980', '1979',\n",
       "       '1975', '1969', '1961', '1965', '1939', '1958', '1950', '1953',\n",
       "       '1966', '1971', '1959', '1972', '1955', '1957', '1945', '1960',\n",
       "       '1967', '1932', '1924', '1964', '2012', '1911', '1927', '1948',\n",
       "       '1962', '2006', '1952', '1940', '1951', '1931', '1954', '2005',\n",
       "       '1930', '1941', '1944', '1943', '1938', '1900', '1942', '1923',\n",
       "       '1920', '1933', '1909', '1946', '2008', '1378', '2030', '1936',\n",
       "       '1947', '2011', '2020', '1919', '1949', '1922', '1897', '2024',\n",
       "       '1376', '1926', '2037'], dtype=object)"
      ]
     },
     "execution_count": 68,
     "metadata": {},
     "output_type": "execute_result"
    }
   ],
   "source": [
    "books['Year-Of-Publication'].unique()"
   ]
  },
  {
   "cell_type": "code",
   "execution_count": 69,
   "metadata": {},
   "outputs": [
    {
     "data": {
      "text/plain": [
       "dtype('O')"
      ]
     },
     "execution_count": 69,
     "metadata": {},
     "output_type": "execute_result"
    }
   ],
   "source": [
    "books['Year-Of-Publication'].dtypes"
   ]
  },
  {
   "cell_type": "markdown",
   "metadata": {},
   "source": [
    "###### As the years are in the object format, we need to change these values in the numeric format. While converting our data to numeric form we are passing errors='coerce' which means the invalid parsing will be set as NaN"
   ]
  },
  {
   "cell_type": "code",
   "execution_count": 70,
   "metadata": {},
   "outputs": [],
   "source": [
    "books['Year-Of-Publication']=pd.to_numeric(books['Year-Of-Publication'],errors='coerce')"
   ]
  },
  {
   "cell_type": "code",
   "execution_count": 71,
   "metadata": {},
   "outputs": [
    {
     "name": "stdout",
     "output_type": "stream",
     "text": [
      "[0, 1376, 1378, 1806, 1897, 1900, 1901, 1902, 1904, 1906, 1908, 1909, 1910, 1911, 1914, 1917, 1919, 1920, 1921, 1922, 1923, 1924, 1925, 1926, 1927, 1928, 1929, 1930, 1931, 1932, 1933, 1934, 1935, 1936, 1937, 1938, 1939, 1940, 1941, 1942, 1943, 1944, 1945, 1946, 1947, 1948, 1949, 1950, 1951, 1952, 1953, 1954, 1955, 1956, 1957, 1958, 1959, 1960, 1961, 1962, 1963, 1964, 1965, 1966, 1967, 1968, 1969, 1970, 1971, 1972, 1973, 1974, 1975, 1976, 1977, 1978, 1979, 1980, 1981, 1982, 1983, 1984, 1985, 1986, 1987, 1988, 1989, 1990, 1991, 1992, 1993, 1994, 1995, 1996, 1997, 1998, 1999, 2000, 2001, 2002, 2003, 2004, 2005, 2006, 2008, 2010, 2011, 2012, 2020, 2021, 2024, 2026, 2030, 2037, 2038, 2050]\n"
     ]
    }
   ],
   "source": [
    "print(sorted(books['Year-Of-Publication'].unique()))"
   ]
  },
  {
   "cell_type": "code",
   "execution_count": 72,
   "metadata": {},
   "outputs": [
    {
     "data": {
      "text/plain": [
       "dtype('int64')"
      ]
     },
     "execution_count": 72,
     "metadata": {},
     "output_type": "execute_result"
    }
   ],
   "source": [
    "books['Year-Of-Publication'].dtypes"
   ]
  },
  {
   "cell_type": "markdown",
   "metadata": {},
   "source": [
    "###### Here i am working with this data in year 2019 so years after, i will consider them as invalid and also year 0 doesn't make any sense, so we will drop the year 0 and year after the 2019 in my data, firstly i will convert these values into null value by the method np.NAN then i will replace these null values with the mean"
   ]
  },
  {
   "cell_type": "code",
   "execution_count": 73,
   "metadata": {},
   "outputs": [],
   "source": [
    "books.loc[(books['Year-Of-Publication']==0)|(books['Year-Of-Publication']>2019),'Year-Of-Publication']=np.NAN\n",
    "books['Year-Of-Publication'].fillna(round(books['Year-Of-Publication'].mean()),inplace=True)"
   ]
  },
  {
   "cell_type": "code",
   "execution_count": 75,
   "metadata": {},
   "outputs": [
    {
     "data": {
      "text/plain": [
       "dtype('float64')"
      ]
     },
     "execution_count": 75,
     "metadata": {},
     "output_type": "execute_result"
    }
   ],
   "source": [
    "books['Year-Of-Publication'].dtypes"
   ]
  },
  {
   "cell_type": "code",
   "execution_count": 77,
   "metadata": {},
   "outputs": [],
   "source": [
    "books['Year-Of-Publication']=books['Year-Of-Publication'].astype(np.int32)"
   ]
  },
  {
   "cell_type": "code",
   "execution_count": 78,
   "metadata": {},
   "outputs": [
    {
     "name": "stdout",
     "output_type": "stream",
     "text": [
      "[1376, 1378, 1806, 1897, 1900, 1901, 1902, 1904, 1906, 1908, 1909, 1910, 1911, 1914, 1917, 1919, 1920, 1921, 1922, 1923, 1924, 1925, 1926, 1927, 1928, 1929, 1930, 1931, 1932, 1933, 1934, 1935, 1936, 1937, 1938, 1939, 1940, 1941, 1942, 1943, 1944, 1945, 1946, 1947, 1948, 1949, 1950, 1951, 1952, 1953, 1954, 1955, 1956, 1957, 1958, 1959, 1960, 1961, 1962, 1963, 1964, 1965, 1966, 1967, 1968, 1969, 1970, 1971, 1972, 1973, 1974, 1975, 1976, 1977, 1978, 1979, 1980, 1981, 1982, 1983, 1984, 1985, 1986, 1987, 1988, 1989, 1990, 1991, 1992, 1993, 1994, 1995, 1996, 1997, 1998, 1999, 2000, 2001, 2002, 2003, 2004, 2005, 2006, 2008, 2010, 2011, 2012]\n"
     ]
    }
   ],
   "source": [
    "print(sorted(books['Year-Of-Publication'].unique()))"
   ]
  },
  {
   "cell_type": "code",
   "execution_count": 79,
   "metadata": {},
   "outputs": [
    {
     "data": {
      "text/plain": [
       "ISBN                   0\n",
       "Book-Title             0\n",
       "Book-Author            1\n",
       "Year-Of-Publication    0\n",
       "Publisher              2\n",
       "dtype: int64"
      ]
     },
     "execution_count": 79,
     "metadata": {},
     "output_type": "execute_result"
    }
   ],
   "source": [
    "books.isnull().sum()"
   ]
  },
  {
   "cell_type": "code",
   "execution_count": 80,
   "metadata": {},
   "outputs": [
    {
     "data": {
      "text/html": [
       "<div>\n",
       "<style scoped>\n",
       "    .dataframe tbody tr th:only-of-type {\n",
       "        vertical-align: middle;\n",
       "    }\n",
       "\n",
       "    .dataframe tbody tr th {\n",
       "        vertical-align: top;\n",
       "    }\n",
       "\n",
       "    .dataframe thead th {\n",
       "        text-align: right;\n",
       "    }\n",
       "</style>\n",
       "<table border=\"1\" class=\"dataframe\">\n",
       "  <thead>\n",
       "    <tr style=\"text-align: right;\">\n",
       "      <th></th>\n",
       "      <th>ISBN</th>\n",
       "      <th>Book-Title</th>\n",
       "      <th>Book-Author</th>\n",
       "      <th>Year-Of-Publication</th>\n",
       "      <th>Publisher</th>\n",
       "    </tr>\n",
       "  </thead>\n",
       "  <tbody>\n",
       "    <tr>\n",
       "      <th>128890</th>\n",
       "      <td>193169656X</td>\n",
       "      <td>Tyrant Moon</td>\n",
       "      <td>Elaine Corvidae</td>\n",
       "      <td>2002</td>\n",
       "      <td>NaN</td>\n",
       "    </tr>\n",
       "    <tr>\n",
       "      <th>129037</th>\n",
       "      <td>1931696993</td>\n",
       "      <td>Finders Keepers</td>\n",
       "      <td>Linnea Sinclair</td>\n",
       "      <td>2001</td>\n",
       "      <td>NaN</td>\n",
       "    </tr>\n",
       "  </tbody>\n",
       "</table>\n",
       "</div>"
      ],
      "text/plain": [
       "              ISBN       Book-Title      Book-Author  Year-Of-Publication  \\\n",
       "128890  193169656X  Tyrant Moon      Elaine Corvidae  2002                  \n",
       "129037  1931696993  Finders Keepers  Linnea Sinclair  2001                  \n",
       "\n",
       "       Publisher  \n",
       "128890  NaN       \n",
       "129037  NaN       "
      ]
     },
     "execution_count": 80,
     "metadata": {},
     "output_type": "execute_result"
    }
   ],
   "source": [
    "books.loc[books['Publisher'].isnull()]"
   ]
  },
  {
   "cell_type": "code",
   "execution_count": 81,
   "metadata": {},
   "outputs": [],
   "source": [
    "books.loc[(books.ISBN=='193169656X'),'Publisher']='other'\n",
    "books.loc[(books.ISBN=='1931696993'),'Publisher']='other'"
   ]
  },
  {
   "cell_type": "code",
   "execution_count": 82,
   "metadata": {},
   "outputs": [
    {
     "data": {
      "text/plain": [
       "Index(['ISBN', 'Book-Title', 'Book-Author', 'Year-Of-Publication',\n",
       "       'Publisher'],\n",
       "      dtype='object')"
      ]
     },
     "execution_count": 82,
     "metadata": {},
     "output_type": "execute_result"
    }
   ],
   "source": [
    "books.columns"
   ]
  },
  {
   "cell_type": "code",
   "execution_count": 83,
   "metadata": {},
   "outputs": [
    {
     "data": {
      "text/html": [
       "<div>\n",
       "<style scoped>\n",
       "    .dataframe tbody tr th:only-of-type {\n",
       "        vertical-align: middle;\n",
       "    }\n",
       "\n",
       "    .dataframe tbody tr th {\n",
       "        vertical-align: top;\n",
       "    }\n",
       "\n",
       "    .dataframe thead th {\n",
       "        text-align: right;\n",
       "    }\n",
       "</style>\n",
       "<table border=\"1\" class=\"dataframe\">\n",
       "  <thead>\n",
       "    <tr style=\"text-align: right;\">\n",
       "      <th></th>\n",
       "      <th>ISBN</th>\n",
       "      <th>Book-Title</th>\n",
       "      <th>Book-Author</th>\n",
       "      <th>Year-Of-Publication</th>\n",
       "      <th>Publisher</th>\n",
       "    </tr>\n",
       "  </thead>\n",
       "  <tbody>\n",
       "    <tr>\n",
       "      <th>187689</th>\n",
       "      <td>9627982032</td>\n",
       "      <td>The Credit Suisse Guide to Managing Your Personal Wealth</td>\n",
       "      <td>NaN</td>\n",
       "      <td>1995</td>\n",
       "      <td>Edinburgh Financial Publishing</td>\n",
       "    </tr>\n",
       "  </tbody>\n",
       "</table>\n",
       "</div>"
      ],
      "text/plain": [
       "              ISBN                                                Book-Title  \\\n",
       "187689  9627982032  The Credit Suisse Guide to Managing Your Personal Wealth   \n",
       "\n",
       "       Book-Author  Year-Of-Publication                       Publisher  \n",
       "187689  NaN         1995                 Edinburgh Financial Publishing  "
      ]
     },
     "execution_count": 83,
     "metadata": {},
     "output_type": "execute_result"
    }
   ],
   "source": [
    "books.loc[books['Book-Author'].isnull()]"
   ]
  },
  {
   "cell_type": "markdown",
   "metadata": {},
   "source": [
    "\"\"\"\"\"\"\"\"\"\"\"\"\"\"\"\"\"\"\"\"\"\"\"\"\"\"\"\"\"\"\"\"\"\"\"\"\"\"\"\"\"\"\"\"\"\"\"\"\"\"\"\"\"\"\"\"\"\"\"\"\"\"\"\"\"\"\"\"\"\"\"\"\"\"\"\"\"\"\n",
    "\"\"\"\"\"\"\"\"\"\"\"\"\"\"\"\"\"\"\"\"\"\"\"\"\"\"\"\"\"\"\"\"\"\"\"\"\"\"\"\"\"\"\"\"\"\"\"\"\"\"\"\"\"\"\"\"\"\"\"\"\"\"\"\"\"\"\"\"\"\"\"\"\"\"\"\"\"\"\"\"\"\"\"\"\"\"\"\"\"\n",
    "\"\"\"\"\"\"\"\"\"\"\"\"\"\"\"\"\"\"\"\"\"\"\"\"\"\"\"\"\"\"\"\"\"\"\"\"\"\"\"\"\"\"\"\"\"\"\"\"\"\"\"\"\"\"\"\"\"\"\"\"\"\"\"\"\"\"\"\"\"\"\"\"\"\"\"\"\"\"\"\"\"\"\"\"\"\"\"\"\"\"\"\"\"\"\"\"\"\"\"\"\n",
    "\"\"\"\"\"\"\"\"\"\"\"\"\"\"\"\"\"\"\"\"\"\"\"\"\"\"\"\"\"\"\"\"\"\"\"\"\"\"\"\"\"\"\"\"\"\"\"\"\"\"\"\"\"\"\"\"\"\"\"\"\"\"\"\"\"\"\"\"\"\"\"\"\"\"\"\"\"\"\"\"\"\"\"\"\"\"\"\"\"\"\"\"\"\"\"\"\"\"\"\"\"\"\"\"\"\"\"\"\"\"\"\n",
    "\"\"\"\"\"\"\"\"\"\"\"\"\"\"\"\"\"\"\"\"\"\"\"\"\"\"\"\"\"\"\"\"\"\"\"\"\"\"\"\"\"\"\"\"\"\"\"\"\"\"\"\"\"\"\"\"\"\"\"\"\"\"\"\"\"\"\"\"\"\"\"\"\"\"\"\"\"\"\"\"\"\"\"\"\"\"\"\"\"\"\"\"\"\"\"\"\"\"\"\"\"\"\"\"\"\"\"\"\"\"\"\"\"\"\"\"\"\"\"\"\"\""
   ]
  },
  {
   "cell_type": "markdown",
   "metadata": {},
   "source": [
    "#### Now Lets Explore User Data Set"
   ]
  },
  {
   "cell_type": "code",
   "execution_count": 84,
   "metadata": {},
   "outputs": [
    {
     "data": {
      "text/html": [
       "<div>\n",
       "<style scoped>\n",
       "    .dataframe tbody tr th:only-of-type {\n",
       "        vertical-align: middle;\n",
       "    }\n",
       "\n",
       "    .dataframe tbody tr th {\n",
       "        vertical-align: top;\n",
       "    }\n",
       "\n",
       "    .dataframe thead th {\n",
       "        text-align: right;\n",
       "    }\n",
       "</style>\n",
       "<table border=\"1\" class=\"dataframe\">\n",
       "  <thead>\n",
       "    <tr style=\"text-align: right;\">\n",
       "      <th></th>\n",
       "      <th>User-ID</th>\n",
       "      <th>Location</th>\n",
       "      <th>Age</th>\n",
       "    </tr>\n",
       "  </thead>\n",
       "  <tbody>\n",
       "    <tr>\n",
       "      <th>0</th>\n",
       "      <td>1</td>\n",
       "      <td>nyc, new york, usa</td>\n",
       "      <td>NaN</td>\n",
       "    </tr>\n",
       "    <tr>\n",
       "      <th>1</th>\n",
       "      <td>2</td>\n",
       "      <td>stockton, california, usa</td>\n",
       "      <td>18.0</td>\n",
       "    </tr>\n",
       "    <tr>\n",
       "      <th>2</th>\n",
       "      <td>3</td>\n",
       "      <td>moscow, yukon territory, russia</td>\n",
       "      <td>NaN</td>\n",
       "    </tr>\n",
       "    <tr>\n",
       "      <th>3</th>\n",
       "      <td>4</td>\n",
       "      <td>porto, v.n.gaia, portugal</td>\n",
       "      <td>17.0</td>\n",
       "    </tr>\n",
       "    <tr>\n",
       "      <th>4</th>\n",
       "      <td>5</td>\n",
       "      <td>farnborough, hants, united kingdom</td>\n",
       "      <td>NaN</td>\n",
       "    </tr>\n",
       "  </tbody>\n",
       "</table>\n",
       "</div>"
      ],
      "text/plain": [
       "   User-ID                            Location   Age\n",
       "0  1        nyc, new york, usa                 NaN  \n",
       "1  2        stockton, california, usa           18.0\n",
       "2  3        moscow, yukon territory, russia    NaN  \n",
       "3  4        porto, v.n.gaia, portugal           17.0\n",
       "4  5        farnborough, hants, united kingdom NaN  "
      ]
     },
     "execution_count": 84,
     "metadata": {},
     "output_type": "execute_result"
    }
   ],
   "source": [
    "users.head()"
   ]
  },
  {
   "cell_type": "code",
   "execution_count": 85,
   "metadata": {},
   "outputs": [
    {
     "data": {
      "text/plain": [
       "User-ID     0     \n",
       "Location    0     \n",
       "Age         110762\n",
       "dtype: int64"
      ]
     },
     "execution_count": 85,
     "metadata": {},
     "output_type": "execute_result"
    }
   ],
   "source": [
    "users.isnull().sum()"
   ]
  },
  {
   "cell_type": "code",
   "execution_count": 86,
   "metadata": {},
   "outputs": [
    {
     "data": {
      "text/plain": [
       "(278858, 3)"
      ]
     },
     "execution_count": 86,
     "metadata": {},
     "output_type": "execute_result"
    }
   ],
   "source": [
    "users.shape"
   ]
  },
  {
   "cell_type": "code",
   "execution_count": 87,
   "metadata": {},
   "outputs": [
    {
     "data": {
      "text/plain": [
       "User-ID     int64  \n",
       "Location    object \n",
       "Age         float64\n",
       "dtype: object"
      ]
     },
     "execution_count": 87,
     "metadata": {},
     "output_type": "execute_result"
    }
   ],
   "source": [
    "users.dtypes"
   ]
  },
  {
   "cell_type": "code",
   "execution_count": 88,
   "metadata": {},
   "outputs": [
    {
     "data": {
      "text/plain": [
       "array([     1,      2,      3, ..., 278856, 278857, 278858], dtype=int64)"
      ]
     },
     "execution_count": 88,
     "metadata": {},
     "output_type": "execute_result"
    }
   ],
   "source": [
    "users['User-ID'].unique()"
   ]
  },
  {
   "cell_type": "code",
   "execution_count": 89,
   "metadata": {},
   "outputs": [
    {
     "name": "stdout",
     "output_type": "stream",
     "text": [
      "[nan, 0.0, 1.0, 2.0, 3.0, 4.0, 5.0, 6.0, 7.0, 8.0, 9.0, 10.0, 11.0, 12.0, 13.0, 14.0, 15.0, 16.0, 17.0, 18.0, 19.0, 20.0, 21.0, 22.0, 23.0, 24.0, 25.0, 26.0, 27.0, 28.0, 29.0, 30.0, 31.0, 32.0, 33.0, 34.0, 35.0, 36.0, 37.0, 38.0, 39.0, 40.0, 41.0, 42.0, 43.0, 44.0, 45.0, 46.0, 47.0, 48.0, 49.0, 50.0, 51.0, 52.0, 53.0, 54.0, 55.0, 56.0, 57.0, 58.0, 59.0, 60.0, 61.0, 62.0, 63.0, 64.0, 65.0, 66.0, 67.0, 68.0, 69.0, 70.0, 71.0, 72.0, 73.0, 74.0, 75.0, 76.0, 77.0, 78.0, 79.0, 80.0, 81.0, 82.0, 83.0, 84.0, 85.0, 86.0, 87.0, 88.0, 89.0, 90.0, 91.0, 92.0, 93.0, 94.0, 95.0, 96.0, 97.0, 98.0, 99.0, 100.0, 101.0, 102.0, 103.0, 104.0, 105.0, 106.0, 107.0, 108.0, 109.0, 110.0, 111.0, 113.0, 114.0, 115.0, 116.0, 118.0, 119.0, 123.0, 124.0, 127.0, 128.0, 132.0, 133.0, 136.0, 137.0, 138.0, 140.0, 141.0, 143.0, 146.0, 147.0, 148.0, 151.0, 152.0, 156.0, 157.0, 159.0, 162.0, 168.0, 172.0, 175.0, 183.0, 186.0, 189.0, 199.0, 200.0, 201.0, 204.0, 207.0, 208.0, 209.0, 210.0, 212.0, 219.0, 220.0, 223.0, 226.0, 228.0, 229.0, 230.0, 231.0, 237.0, 239.0, 244.0]\n"
     ]
    }
   ],
   "source": [
    "print(sorted(users['Age'].unique()))"
   ]
  },
  {
   "cell_type": "markdown",
   "metadata": {},
   "source": [
    "###### As we know the age below 5 years and above 90 doesn't make any sense, so firstly we will try to convert these values will null value and then will impute with the mean age "
   ]
  },
  {
   "cell_type": "code",
   "execution_count": 90,
   "metadata": {},
   "outputs": [],
   "source": [
    "users.loc[(users['Age']<5)|(users['Age']>90),'Age']=np.nan\n",
    "users['Age']=users['Age'].fillna(users['Age'].mean())\n",
    "users['Age']=users['Age'].astype(np.int32)"
   ]
  },
  {
   "cell_type": "code",
   "execution_count": 91,
   "metadata": {},
   "outputs": [
    {
     "name": "stdout",
     "output_type": "stream",
     "text": [
      "[5, 6, 7, 8, 9, 10, 11, 12, 13, 14, 15, 16, 17, 18, 19, 20, 21, 22, 23, 24, 25, 26, 27, 28, 29, 30, 31, 32, 33, 34, 35, 36, 37, 38, 39, 40, 41, 42, 43, 44, 45, 46, 47, 48, 49, 50, 51, 52, 53, 54, 55, 56, 57, 58, 59, 60, 61, 62, 63, 64, 65, 66, 67, 68, 69, 70, 71, 72, 73, 74, 75, 76, 77, 78, 79, 80, 81, 82, 83, 84, 85, 86, 87, 88, 89, 90]\n"
     ]
    }
   ],
   "source": [
    "print(sorted(users['Age'].unique()))"
   ]
  },
  {
   "cell_type": "markdown",
   "metadata": {},
   "source": [
    "#### now let explore rating data set"
   ]
  },
  {
   "cell_type": "code",
   "execution_count": 92,
   "metadata": {},
   "outputs": [
    {
     "data": {
      "text/plain": [
       "(1149780, 3)"
      ]
     },
     "execution_count": 92,
     "metadata": {},
     "output_type": "execute_result"
    }
   ],
   "source": [
    "rating.shape"
   ]
  },
  {
   "cell_type": "code",
   "execution_count": 93,
   "metadata": {},
   "outputs": [
    {
     "data": {
      "text/html": [
       "<div>\n",
       "<style scoped>\n",
       "    .dataframe tbody tr th:only-of-type {\n",
       "        vertical-align: middle;\n",
       "    }\n",
       "\n",
       "    .dataframe tbody tr th {\n",
       "        vertical-align: top;\n",
       "    }\n",
       "\n",
       "    .dataframe thead th {\n",
       "        text-align: right;\n",
       "    }\n",
       "</style>\n",
       "<table border=\"1\" class=\"dataframe\">\n",
       "  <thead>\n",
       "    <tr style=\"text-align: right;\">\n",
       "      <th></th>\n",
       "      <th>User-ID</th>\n",
       "      <th>ISBN</th>\n",
       "      <th>Book-Rating</th>\n",
       "    </tr>\n",
       "  </thead>\n",
       "  <tbody>\n",
       "    <tr>\n",
       "      <th>0</th>\n",
       "      <td>276725</td>\n",
       "      <td>034545104X</td>\n",
       "      <td>0</td>\n",
       "    </tr>\n",
       "    <tr>\n",
       "      <th>1</th>\n",
       "      <td>276726</td>\n",
       "      <td>0155061224</td>\n",
       "      <td>5</td>\n",
       "    </tr>\n",
       "    <tr>\n",
       "      <th>2</th>\n",
       "      <td>276727</td>\n",
       "      <td>0446520802</td>\n",
       "      <td>0</td>\n",
       "    </tr>\n",
       "    <tr>\n",
       "      <th>3</th>\n",
       "      <td>276729</td>\n",
       "      <td>052165615X</td>\n",
       "      <td>3</td>\n",
       "    </tr>\n",
       "    <tr>\n",
       "      <th>4</th>\n",
       "      <td>276729</td>\n",
       "      <td>0521795028</td>\n",
       "      <td>6</td>\n",
       "    </tr>\n",
       "  </tbody>\n",
       "</table>\n",
       "</div>"
      ],
      "text/plain": [
       "   User-ID        ISBN  Book-Rating\n",
       "0  276725   034545104X  0          \n",
       "1  276726   0155061224  5          \n",
       "2  276727   0446520802  0          \n",
       "3  276729   052165615X  3          \n",
       "4  276729   0521795028  6          "
      ]
     },
     "execution_count": 93,
     "metadata": {},
     "output_type": "execute_result"
    }
   ],
   "source": [
    "rating.head()"
   ]
  },
  {
   "cell_type": "code",
   "execution_count": 94,
   "metadata": {},
   "outputs": [
    {
     "data": {
      "text/plain": [
       "Index(['User-ID', 'ISBN', 'Book-Rating'], dtype='object')"
      ]
     },
     "execution_count": 94,
     "metadata": {},
     "output_type": "execute_result"
    }
   ],
   "source": [
    "rating.columns"
   ]
  },
  {
   "cell_type": "code",
   "execution_count": 95,
   "metadata": {},
   "outputs": [
    {
     "data": {
      "text/plain": [
       "User-ID        int64 \n",
       "ISBN           object\n",
       "Book-Rating    int64 \n",
       "dtype: object"
      ]
     },
     "execution_count": 95,
     "metadata": {},
     "output_type": "execute_result"
    }
   ],
   "source": [
    "rating.dtypes"
   ]
  },
  {
   "cell_type": "code",
   "execution_count": 96,
   "metadata": {},
   "outputs": [
    {
     "data": {
      "text/plain": [
       "array([ 0,  5,  3,  6,  8,  7, 10,  9,  4,  1,  2], dtype=int64)"
      ]
     },
     "execution_count": 96,
     "metadata": {},
     "output_type": "execute_result"
    }
   ],
   "source": [
    "rating['Book-Rating'].unique()"
   ]
  },
  {
   "cell_type": "code",
   "execution_count": 97,
   "metadata": {},
   "outputs": [
    {
     "name": "stdout",
     "output_type": "stream",
     "text": [
      "75670906880\n"
     ]
    }
   ],
   "source": [
    "n_users=users.shape[0]\n",
    "n_books=books.shape[0]\n",
    "print(n_users*n_books)"
   ]
  },
  {
   "cell_type": "code",
   "execution_count": 98,
   "metadata": {},
   "outputs": [
    {
     "data": {
      "text/plain": [
       "Index(['User-ID', 'ISBN', 'Book-Rating'], dtype='object')"
      ]
     },
     "execution_count": 98,
     "metadata": {},
     "output_type": "execute_result"
    }
   ],
   "source": [
    "rating.columns"
   ]
  },
  {
   "cell_type": "code",
   "execution_count": 99,
   "metadata": {},
   "outputs": [
    {
     "data": {
      "text/plain": [
       "Index(['ISBN', 'Book-Title', 'Book-Author', 'Year-Of-Publication',\n",
       "       'Publisher'],\n",
       "      dtype='object')"
      ]
     },
     "execution_count": 99,
     "metadata": {},
     "output_type": "execute_result"
    }
   ],
   "source": [
    "books.columns"
   ]
  },
  {
   "cell_type": "markdown",
   "metadata": {},
   "source": [
    "###### now we will try to find out the books which were being rated and then will try to extract the ID's for those books"
   ]
  },
  {
   "cell_type": "code",
   "execution_count": 100,
   "metadata": {},
   "outputs": [],
   "source": [
    "ratings_new=rating[rating.ISBN.isin(books.ISBN)]\n",
    "ratings_new=ratings_new[ratings_new['User-ID'].isin(users['User-ID'])]"
   ]
  },
  {
   "cell_type": "code",
   "execution_count": 101,
   "metadata": {},
   "outputs": [
    {
     "name": "stdout",
     "output_type": "stream",
     "text": [
      "(1149780, 3)\n",
      "(1031136, 3)\n"
     ]
    }
   ],
   "source": [
    "print(rating.shape)\n",
    "print(ratings_new.shape)"
   ]
  },
  {
   "cell_type": "code",
   "execution_count": 102,
   "metadata": {},
   "outputs": [
    {
     "name": "stdout",
     "output_type": "stream",
     "text": [
      "the sparsity level of book crossing data set is 99.99863734155898 %\n"
     ]
    }
   ],
   "source": [
    "sparsity=1.0-len(ratings_new)/float(n_users*n_books)\n",
    "print(\"the sparsity level of book crossing data set is \"+str(sparsity*100)+ \" %\")"
   ]
  },
  {
   "cell_type": "code",
   "execution_count": 103,
   "metadata": {},
   "outputs": [
    {
     "data": {
      "text/plain": [
       "array([ 0,  5,  3,  6,  8,  7, 10,  9,  4,  1,  2], dtype=int64)"
      ]
     },
     "execution_count": 103,
     "metadata": {},
     "output_type": "execute_result"
    }
   ],
   "source": [
    "rating['Book-Rating'].unique()"
   ]
  },
  {
   "cell_type": "code",
   "execution_count": 104,
   "metadata": {},
   "outputs": [],
   "source": [
    "ratings_explicit=ratings_new[ratings_new['Book-Rating']!=0]\n",
    "ratings_implicit=ratings_new[ratings_new['Book-Rating']==0]"
   ]
  },
  {
   "cell_type": "code",
   "execution_count": 106,
   "metadata": {},
   "outputs": [
    {
     "data": {
      "text/html": [
       "<div>\n",
       "<style scoped>\n",
       "    .dataframe tbody tr th:only-of-type {\n",
       "        vertical-align: middle;\n",
       "    }\n",
       "\n",
       "    .dataframe tbody tr th {\n",
       "        vertical-align: top;\n",
       "    }\n",
       "\n",
       "    .dataframe thead th {\n",
       "        text-align: right;\n",
       "    }\n",
       "</style>\n",
       "<table border=\"1\" class=\"dataframe\">\n",
       "  <thead>\n",
       "    <tr style=\"text-align: right;\">\n",
       "      <th></th>\n",
       "      <th>User-ID</th>\n",
       "      <th>Location</th>\n",
       "      <th>Age</th>\n",
       "    </tr>\n",
       "  </thead>\n",
       "  <tbody>\n",
       "    <tr>\n",
       "      <th>0</th>\n",
       "      <td>1</td>\n",
       "      <td>nyc, new york, usa</td>\n",
       "      <td>34</td>\n",
       "    </tr>\n",
       "    <tr>\n",
       "      <th>1</th>\n",
       "      <td>2</td>\n",
       "      <td>stockton, california, usa</td>\n",
       "      <td>18</td>\n",
       "    </tr>\n",
       "    <tr>\n",
       "      <th>2</th>\n",
       "      <td>3</td>\n",
       "      <td>moscow, yukon territory, russia</td>\n",
       "      <td>34</td>\n",
       "    </tr>\n",
       "    <tr>\n",
       "      <th>3</th>\n",
       "      <td>4</td>\n",
       "      <td>porto, v.n.gaia, portugal</td>\n",
       "      <td>17</td>\n",
       "    </tr>\n",
       "    <tr>\n",
       "      <th>4</th>\n",
       "      <td>5</td>\n",
       "      <td>farnborough, hants, united kingdom</td>\n",
       "      <td>34</td>\n",
       "    </tr>\n",
       "  </tbody>\n",
       "</table>\n",
       "</div>"
      ],
      "text/plain": [
       "   User-ID                            Location  Age\n",
       "0  1        nyc, new york, usa                  34 \n",
       "1  2        stockton, california, usa           18 \n",
       "2  3        moscow, yukon territory, russia     34 \n",
       "3  4        porto, v.n.gaia, portugal           17 \n",
       "4  5        farnborough, hants, united kingdom  34 "
      ]
     },
     "execution_count": 106,
     "metadata": {},
     "output_type": "execute_result"
    }
   ],
   "source": [
    "users.head()"
   ]
  },
  {
   "cell_type": "code",
   "execution_count": 107,
   "metadata": {},
   "outputs": [],
   "source": [
    "users_exp_ratings=users[users['User-ID'].isin(ratings_explicit['User-ID'])]\n",
    "users_imp_ratings=users[users['User-ID'].isin(ratings_implicit['User-ID'])]                                              "
   ]
  },
  {
   "cell_type": "code",
   "execution_count": 108,
   "metadata": {},
   "outputs": [
    {
     "data": {
      "image/png": "[encoded data removed]",
      "text/plain": [
       "<Figure size 432x288 with 1 Axes>"
      ]
     },
     "metadata": {
      "needs_background": "light"
     },
     "output_type": "display_data"
    }
   ],
   "source": [
    "sns.countplot(data=ratings_explicit,x='Book-Rating');"
   ]
  },
  {
   "cell_type": "markdown",
   "metadata": {},
   "source": [
    "#### Now we are in the position of make recommendation\n",
    "1- $Popularity$- $based$- $Recommendation$"
   ]
  },
  {
   "cell_type": "code",
   "execution_count": 109,
   "metadata": {},
   "outputs": [
    {
     "name": "stdout",
     "output_type": "stream",
     "text": [
      "following books are recommended\n"
     ]
    },
    {
     "data": {
      "text/html": [
       "<div>\n",
       "<style scoped>\n",
       "    .dataframe tbody tr th:only-of-type {\n",
       "        vertical-align: middle;\n",
       "    }\n",
       "\n",
       "    .dataframe tbody tr th {\n",
       "        vertical-align: top;\n",
       "    }\n",
       "\n",
       "    .dataframe thead th {\n",
       "        text-align: right;\n",
       "    }\n",
       "</style>\n",
       "<table border=\"1\" class=\"dataframe\">\n",
       "  <thead>\n",
       "    <tr style=\"text-align: right;\">\n",
       "      <th></th>\n",
       "      <th>Book-Rating</th>\n",
       "      <th>ISBN</th>\n",
       "      <th>Book-Title</th>\n",
       "      <th>Book-Author</th>\n",
       "      <th>Year-Of-Publication</th>\n",
       "      <th>Publisher</th>\n",
       "    </tr>\n",
       "  </thead>\n",
       "  <tbody>\n",
       "    <tr>\n",
       "      <th>408</th>\n",
       "      <td>5787</td>\n",
       "      <td>0316666343</td>\n",
       "      <td>The Lovely Bones: A Novel</td>\n",
       "      <td>Alice Sebold</td>\n",
       "      <td>2002</td>\n",
       "      <td>Little, Brown</td>\n",
       "    </tr>\n",
       "    <tr>\n",
       "      <th>748</th>\n",
       "      <td>4108</td>\n",
       "      <td>0385504209</td>\n",
       "      <td>The Da Vinci Code</td>\n",
       "      <td>Dan Brown</td>\n",
       "      <td>2003</td>\n",
       "      <td>Doubleday</td>\n",
       "    </tr>\n",
       "    <tr>\n",
       "      <th>522</th>\n",
       "      <td>3134</td>\n",
       "      <td>0312195516</td>\n",
       "      <td>The Red Tent (Bestselling Backlist)</td>\n",
       "      <td>Anita Diamant</td>\n",
       "      <td>1998</td>\n",
       "      <td>Picador USA</td>\n",
       "    </tr>\n",
       "    <tr>\n",
       "      <th>2143</th>\n",
       "      <td>2798</td>\n",
       "      <td>059035342X</td>\n",
       "      <td>Harry Potter and the Sorcerer's Stone (Harry Potter (Paperback))</td>\n",
       "      <td>J. K. Rowling</td>\n",
       "      <td>1999</td>\n",
       "      <td>Arthur A. Levine Books</td>\n",
       "    </tr>\n",
       "    <tr>\n",
       "      <th>356</th>\n",
       "      <td>2595</td>\n",
       "      <td>0142001740</td>\n",
       "      <td>The Secret Life of Bees</td>\n",
       "      <td>Sue Monk Kidd</td>\n",
       "      <td>2003</td>\n",
       "      <td>Penguin Books</td>\n",
       "    </tr>\n",
       "    <tr>\n",
       "      <th>26</th>\n",
       "      <td>2551</td>\n",
       "      <td>0971880107</td>\n",
       "      <td>Wild Animus</td>\n",
       "      <td>Rich Shapero</td>\n",
       "      <td>2004</td>\n",
       "      <td>Too Far</td>\n",
       "    </tr>\n",
       "    <tr>\n",
       "      <th>1105</th>\n",
       "      <td>2524</td>\n",
       "      <td>0060928336</td>\n",
       "      <td>Divine Secrets of the Ya-Ya Sisterhood: A Novel</td>\n",
       "      <td>Rebecca Wells</td>\n",
       "      <td>1997</td>\n",
       "      <td>Perennial</td>\n",
       "    </tr>\n",
       "    <tr>\n",
       "      <th>706</th>\n",
       "      <td>2402</td>\n",
       "      <td>0446672211</td>\n",
       "      <td>Where the Heart Is (Oprah's Book Club (Paperback))</td>\n",
       "      <td>Billie Letts</td>\n",
       "      <td>1998</td>\n",
       "      <td>Warner Books</td>\n",
       "    </tr>\n",
       "    <tr>\n",
       "      <th>231</th>\n",
       "      <td>2219</td>\n",
       "      <td>0452282152</td>\n",
       "      <td>Girl with a Pearl Earring</td>\n",
       "      <td>Tracy Chevalier</td>\n",
       "      <td>2001</td>\n",
       "      <td>Plume Books</td>\n",
       "    </tr>\n",
       "    <tr>\n",
       "      <th>118</th>\n",
       "      <td>2179</td>\n",
       "      <td>0671027360</td>\n",
       "      <td>Angels &amp;amp; Demons</td>\n",
       "      <td>Dan Brown</td>\n",
       "      <td>2001</td>\n",
       "      <td>Pocket Star</td>\n",
       "    </tr>\n",
       "  </tbody>\n",
       "</table>\n",
       "</div>"
      ],
      "text/plain": [
       "      Book-Rating        ISBN  \\\n",
       "408   5787         0316666343   \n",
       "748   4108         0385504209   \n",
       "522   3134         0312195516   \n",
       "2143  2798         059035342X   \n",
       "356   2595         0142001740   \n",
       "26    2551         0971880107   \n",
       "1105  2524         0060928336   \n",
       "706   2402         0446672211   \n",
       "231   2219         0452282152   \n",
       "118   2179         0671027360   \n",
       "\n",
       "                                                            Book-Title  \\\n",
       "408   The Lovely Bones: A Novel                                          \n",
       "748   The Da Vinci Code                                                  \n",
       "522   The Red Tent (Bestselling Backlist)                                \n",
       "2143  Harry Potter and the Sorcerer's Stone (Harry Potter (Paperback))   \n",
       "356   The Secret Life of Bees                                            \n",
       "26    Wild Animus                                                        \n",
       "1105  Divine Secrets of the Ya-Ya Sisterhood: A Novel                    \n",
       "706   Where the Heart Is (Oprah's Book Club (Paperback))                 \n",
       "231   Girl with a Pearl Earring                                          \n",
       "118   Angels &amp; Demons                                                \n",
       "\n",
       "          Book-Author  Year-Of-Publication               Publisher  \n",
       "408   Alice Sebold     2002                 Little, Brown           \n",
       "748   Dan Brown        2003                 Doubleday               \n",
       "522   Anita Diamant    1998                 Picador USA             \n",
       "2143  J. K. Rowling    1999                 Arthur A. Levine Books  \n",
       "356   Sue Monk Kidd    2003                 Penguin Books           \n",
       "26    Rich Shapero     2004                 Too Far                 \n",
       "1105  Rebecca Wells    1997                 Perennial               \n",
       "706   Billie Letts     1998                 Warner Books            \n",
       "231   Tracy Chevalier  2001                 Plume Books             \n",
       "118   Dan Brown        2001                 Pocket Star             "
      ]
     },
     "execution_count": 109,
     "metadata": {},
     "output_type": "execute_result"
    }
   ],
   "source": [
    "ratings_count=pd.DataFrame(ratings_explicit.groupby(['ISBN'])['Book-Rating'].sum())\n",
    "top10=ratings_count.sort_values('Book-Rating',ascending=False).head(10)\n",
    "print(\"following books are recommended\")\n",
    "top10.merge(books,left_index=True,right_on='ISBN')"
   ]
  },
  {
   "cell_type": "markdown",
   "metadata": {},
   "source": [
    "#### Method 2\n",
    "2- $User$-$Based$\n",
    "###### as our machine does not have enough ram to apply algorithms to whole data, so we will try to apply our algorithms on test data."
   ]
  },
  {
   "cell_type": "code",
   "execution_count": 209,
   "metadata": {},
   "outputs": [],
   "source": [
    "data=ratings_explicit.sample(frac=0.15,random_state=100)"
   ]
  },
  {
   "cell_type": "code",
   "execution_count": 210,
   "metadata": {},
   "outputs": [
    {
     "data": {
      "text/plain": [
       "(57576, 3)"
      ]
     },
     "execution_count": 210,
     "metadata": {},
     "output_type": "execute_result"
    }
   ],
   "source": [
    "data.shape"
   ]
  },
  {
   "cell_type": "code",
   "execution_count": 211,
   "metadata": {},
   "outputs": [
    {
     "data": {
      "text/html": [
       "<div>\n",
       "<style scoped>\n",
       "    .dataframe tbody tr th:only-of-type {\n",
       "        vertical-align: middle;\n",
       "    }\n",
       "\n",
       "    .dataframe tbody tr th {\n",
       "        vertical-align: top;\n",
       "    }\n",
       "\n",
       "    .dataframe thead th {\n",
       "        text-align: right;\n",
       "    }\n",
       "</style>\n",
       "<table border=\"1\" class=\"dataframe\">\n",
       "  <thead>\n",
       "    <tr style=\"text-align: right;\">\n",
       "      <th></th>\n",
       "      <th>User-ID</th>\n",
       "      <th>ISBN</th>\n",
       "      <th>Book-Rating</th>\n",
       "    </tr>\n",
       "  </thead>\n",
       "  <tbody>\n",
       "    <tr>\n",
       "      <th>584624</th>\n",
       "      <td>141073</td>\n",
       "      <td>0373833598</td>\n",
       "      <td>6</td>\n",
       "    </tr>\n",
       "    <tr>\n",
       "      <th>907814</th>\n",
       "      <td>220586</td>\n",
       "      <td>006000438X</td>\n",
       "      <td>8</td>\n",
       "    </tr>\n",
       "    <tr>\n",
       "      <th>91387</th>\n",
       "      <td>20265</td>\n",
       "      <td>0345323750</td>\n",
       "      <td>8</td>\n",
       "    </tr>\n",
       "    <tr>\n",
       "      <th>60294</th>\n",
       "      <td>12153</td>\n",
       "      <td>0688013929</td>\n",
       "      <td>9</td>\n",
       "    </tr>\n",
       "    <tr>\n",
       "      <th>815161</th>\n",
       "      <td>198507</td>\n",
       "      <td>0375502025</td>\n",
       "      <td>7</td>\n",
       "    </tr>\n",
       "  </tbody>\n",
       "</table>\n",
       "</div>"
      ],
      "text/plain": [
       "        User-ID        ISBN  Book-Rating\n",
       "584624  141073   0373833598  6          \n",
       "907814  220586   006000438X  8          \n",
       "91387   20265    0345323750  8          \n",
       "60294   12153    0688013929  9          \n",
       "815161  198507   0375502025  7          "
      ]
     },
     "execution_count": 211,
     "metadata": {},
     "output_type": "execute_result"
    }
   ],
   "source": [
    "data.head()"
   ]
  },
  {
   "cell_type": "code",
   "execution_count": 212,
   "metadata": {},
   "outputs": [
    {
     "data": {
      "text/plain": [
       "Index(['User-ID', 'ISBN', 'Book-Rating'], dtype='object')"
      ]
     },
     "execution_count": 212,
     "metadata": {},
     "output_type": "execute_result"
    }
   ],
   "source": [
    "data.columns"
   ]
  },
  {
   "cell_type": "code",
   "execution_count": 213,
   "metadata": {},
   "outputs": [],
   "source": [
    "data=data.rename(columns={'User-ID':'user',\"ISBN\":'item',\"Book-Rating\":'rating'})"
   ]
  },
  {
   "cell_type": "code",
   "execution_count": 214,
   "metadata": {},
   "outputs": [
    {
     "data": {
      "text/html": [
       "<div>\n",
       "<style scoped>\n",
       "    .dataframe tbody tr th:only-of-type {\n",
       "        vertical-align: middle;\n",
       "    }\n",
       "\n",
       "    .dataframe tbody tr th {\n",
       "        vertical-align: top;\n",
       "    }\n",
       "\n",
       "    .dataframe thead th {\n",
       "        text-align: right;\n",
       "    }\n",
       "</style>\n",
       "<table border=\"1\" class=\"dataframe\">\n",
       "  <thead>\n",
       "    <tr style=\"text-align: right;\">\n",
       "      <th></th>\n",
       "      <th>user</th>\n",
       "      <th>item</th>\n",
       "      <th>rating</th>\n",
       "    </tr>\n",
       "  </thead>\n",
       "  <tbody>\n",
       "    <tr>\n",
       "      <th>584624</th>\n",
       "      <td>141073</td>\n",
       "      <td>0373833598</td>\n",
       "      <td>6</td>\n",
       "    </tr>\n",
       "    <tr>\n",
       "      <th>907814</th>\n",
       "      <td>220586</td>\n",
       "      <td>006000438X</td>\n",
       "      <td>8</td>\n",
       "    </tr>\n",
       "    <tr>\n",
       "      <th>91387</th>\n",
       "      <td>20265</td>\n",
       "      <td>0345323750</td>\n",
       "      <td>8</td>\n",
       "    </tr>\n",
       "    <tr>\n",
       "      <th>60294</th>\n",
       "      <td>12153</td>\n",
       "      <td>0688013929</td>\n",
       "      <td>9</td>\n",
       "    </tr>\n",
       "    <tr>\n",
       "      <th>815161</th>\n",
       "      <td>198507</td>\n",
       "      <td>0375502025</td>\n",
       "      <td>7</td>\n",
       "    </tr>\n",
       "  </tbody>\n",
       "</table>\n",
       "</div>"
      ],
      "text/plain": [
       "          user        item  rating\n",
       "584624  141073  0373833598  6     \n",
       "907814  220586  006000438X  8     \n",
       "91387   20265   0345323750  8     \n",
       "60294   12153   0688013929  9     \n",
       "815161  198507  0375502025  7     "
      ]
     },
     "execution_count": 214,
     "metadata": {},
     "output_type": "execute_result"
    }
   ],
   "source": [
    "data.head()"
   ]
  },
  {
   "cell_type": "code",
   "execution_count": 215,
   "metadata": {},
   "outputs": [],
   "source": [
    "reader=surprise.dataset.Reader(line_format='user item rating',rating_scale=(1,10))"
   ]
  },
  {
   "cell_type": "code",
   "execution_count": 216,
   "metadata": {},
   "outputs": [],
   "source": [
    "data1=surprise.dataset.Dataset.load_from_df(data,reader=reader)"
   ]
  },
  {
   "cell_type": "code",
   "execution_count": 217,
   "metadata": {},
   "outputs": [
    {
     "data": {
      "text/plain": [
       "[(141073, '0373833598', 6.0, None),\n",
       " (220586, '006000438X', 8.0, None),\n",
       " (20265, '0345323750', 8.0, None),\n",
       " (12153, '0688013929', 9.0, None),\n",
       " (198507, '0375502025', 7.0, None),\n",
       " (20106, '0446610542', 8.0, None),\n",
       " (241802, '0590477382', 5.0, None),\n",
       " (252385, '0192816705', 7.0, None),\n",
       " (235736, '0373825021', 8.0, None),\n",
       " (240402, '0385334710', 10.0, None),\n",
       " (13279, '0060158638', 9.0, None),\n",
       " (37311, '044661162X', 5.0, None),\n",
       " (72771, '3596126436', 9.0, None),\n",
       " (163759, '0373708807', 5.0, None),\n",
       " (90232, '2070403688', 5.0, None),\n",
       " (1923, '0330357190', 8.0, None),\n",
       " (250326, '0441810764', 9.0, None),\n",
       " (20060, '0440224764', 9.0, None),\n",
       " (199092, '0440234743', 3.0, None),\n",
       " (58790, '0887307876', 9.0, None),\n",
       " (115435, '0671755064', 8.0, None),\n",
       " (192479, '0515135739', 10.0, None),\n",
       " (266283, '0440226430', 7.0, None),\n",
       " (55620, '0060652934', 8.0, None),\n",
       " (68984, '1578561256', 8.0, None),\n",
       " (276055, '1578151023', 8.0, None),\n",
       " (218059, '0895941228', 5.0, None),\n",
       " (236604, '3892061238', 8.0, None),\n",
       " (224525, '157859135X', 10.0, None),\n",
       " (101851, '0874312116', 9.0, None),\n",
       " (271004, '0425157539', 7.0, None),\n",
       " (162052, '0449219461', 10.0, None),\n",
       " (140223, '034543479X', 8.0, None),\n",
       " (225727, '0425127583', 8.0, None),\n",
       " (245790, '0140621164', 10.0, None),\n",
       " (65665, '3525335180', 8.0, None),\n",
       " (81560, '0618346279', 9.0, None),\n",
       " (202036, '038097407X', 7.0, None),\n",
       " (269449, '0446605166', 7.0, None),\n",
       " (221753, '0836267524', 9.0, None),\n",
       " (203799, '0425154092', 4.0, None),\n",
       " (252820, '0451150708', 5.0, None),\n",
       " (200631, '0380788144', 9.0, None),\n",
       " (122443, '0316284955', 8.0, None),\n",
       " (168245, '0671689738', 8.0, None),\n",
       " (31826, '0553575791', 5.0, None),\n",
       " (242849, '0345447867', 6.0, None),\n",
       " (148263, '0671743902', 8.0, None),\n",
       " (253226, '0671722859', 7.0, None),\n",
       " (31391, '0441001971', 10.0, None),\n",
       " (184299, '0553279912', 7.0, None),\n",
       " (60621, '0806126671', 8.0, None),\n",
       " (79441, '0452270952', 8.0, None),\n",
       " (73045, '1561384593', 6.0, None),\n",
       " (135265, '0380725703', 8.0, None),\n",
       " (53174, '0553371010', 10.0, None),\n",
       " (1424, '0345439481', 7.0, None),\n",
       " (161882, '0609809547', 5.0, None),\n",
       " (88733, '1585471143', 9.0, None),\n",
       " (158295, '0804820724', 5.0, None),\n",
       " (62457, '0393022897', 5.0, None),\n",
       " (11676, '1870098110', 10.0, None),\n",
       " (208536, '1886249075', 10.0, None),\n",
       " (11676, '031226772X', 7.0, None),\n",
       " (32258, '0451204530', 7.0, None),\n",
       " (108950, '0316899984', 7.0, None),\n",
       " (119575, '0451141083', 7.0, None),\n",
       " (254899, '0061020613', 9.0, None),\n",
       " (153662, '0590937766', 8.0, None),\n",
       " (10413, '345386722X', 7.0, None),\n",
       " (173415, '0471506583', 5.0, None),\n",
       " (21014, '0064400018', 10.0, None),\n",
       " (55927, '0152275177', 7.0, None),\n",
       " (233361, '0385492081', 9.0, None),\n",
       " (256402, '0812502574', 8.0, None),\n",
       " (185233, '0816743452', 5.0, None),\n",
       " (56959, '0345416260', 5.0, None),\n",
       " (158253, '0842319476', 5.0, None),\n",
       " (156150, '0517149257', 5.0, None),\n",
       " (246617, '0439305292', 10.0, None),\n",
       " (31471, '0345380371', 8.0, None),\n",
       " (8971, '3518374559', 9.0, None),\n",
       " (120548, '8408024485', 8.0, None),\n",
       " (264152, '1567510787', 7.0, None),\n",
       " (276167, '0316769487', 9.0, None),\n",
       " (37293, '0740700081', 8.0, None),\n",
       " (224342, '0316969443', 9.0, None),\n",
       " (273587, '0312252854', 9.0, None),\n",
       " (225199, '0449002632', 10.0, None),\n",
       " (229329, '1581170238', 9.0, None),\n",
       " (6810, '0440194253', 7.0, None),\n",
       " (182071, '0684841185', 7.0, None),\n",
       " (184513, '0440215900', 6.0, None),\n",
       " (2033, '0716723980', 7.0, None),\n",
       " (273636, '097115693X', 10.0, None),\n",
       " (81492, '0380820056', 9.0, None),\n",
       " (171602, '0451177096', 9.0, None),\n",
       " (170454, '068804798X', 5.0, None),\n",
       " (134948, '0399134832', 5.0, None),\n",
       " (276212, '0439221609', 7.0, None),\n",
       " (49858, '0671037382', 5.0, None),\n",
       " (195904, '0345382315', 6.0, None),\n",
       " (26593, '059047071X', 7.0, None),\n",
       " (47316, '0880707275', 10.0, None),\n",
       " (189973, '038077688X', 6.0, None),\n",
       " (224904, '1931514925', 7.0, None),\n",
       " (31556, '0553574027', 5.0, None),\n",
       " (170634, '030709930X', 10.0, None),\n",
       " (257534, '0316154601', 9.0, None),\n",
       " (129503, '2253057541', 9.0, None),\n",
       " (152964, '0452260116', 8.0, None),\n",
       " (119029, '0465068146', 10.0, None),\n",
       " (19281, '8845205118', 8.0, None),\n",
       " (244070, '0804831890', 10.0, None),\n",
       " (87911, '0394820371', 5.0, None),\n",
       " (166772, '8433966057', 8.0, None),\n",
       " (90719, '0684865114', 9.0, None),\n",
       " (95316, '0425181464', 6.0, None),\n",
       " (184616, '0380775980', 5.0, None),\n",
       " (1129, '1400062888', 3.0, None),\n",
       " (95991, '1400031354', 8.0, None),\n",
       " (193746, '0425152251', 5.0, None),\n",
       " (257591, '0515132020', 7.0, None),\n",
       " (218640, '0394700155', 10.0, None),\n",
       " (264191, '2070301028', 6.0, None),\n",
       " (55892, '1570421048', 5.0, None),\n",
       " (92652, '1568656092', 5.0, None),\n",
       " (135149, '0929634063', 8.0, None),\n",
       " (78973, '042518630X', 7.0, None),\n",
       " (209756, '0064407055', 4.0, None),\n",
       " (182382, '0425147754', 6.0, None),\n",
       " (221753, '0836217349', 9.0, None),\n",
       " (233911, '0312869592', 10.0, None),\n",
       " (101095, '0316926108', 9.0, None),\n",
       " (170184, '0451210557', 8.0, None),\n",
       " (250459, '1400046610', 9.0, None),\n",
       " (233174, '8845407039', 10.0, None),\n",
       " (194669, '0425168212', 7.0, None),\n",
       " (213660, '1558747117', 10.0, None),\n",
       " (217740, '0312961324', 5.0, None),\n",
       " (95359, '0060916508', 9.0, None),\n",
       " (150979, '0448095408', 8.0, None),\n",
       " (107784, '0312968086', 5.0, None),\n",
       " (101851, '0679776222', 10.0, None),\n",
       " (124733, '0679733965', 8.0, None),\n",
       " (98887, '0708924417', 7.0, None),\n",
       " (235105, '006000469X', 7.0, None),\n",
       " (143677, '0393307050', 8.0, None),\n",
       " (64310, '0425162028', 9.0, None),\n",
       " (238524, '0156007533', 9.0, None),\n",
       " (58363, '0517703955', 5.0, None),\n",
       " (77270, '0449004848', 8.0, None),\n",
       " (274466, '0399142991', 8.0, None),\n",
       " (219683, '0380752859', 2.0, None),\n",
       " (84866, '1859021123', 6.0, None),\n",
       " (251467, '0394909674', 8.0, None),\n",
       " (112001, '0385316860', 10.0, None),\n",
       " (141447, '0425136981', 8.0, None),\n",
       " (103541, '0451453573', 10.0, None),\n",
       " (38473, '0380762277', 8.0, None),\n",
       " (20201, '0935696016', 5.0, None),\n",
       " (66055, '0425125467', 8.0, None),\n",
       " (145449, '006065421X', 8.0, None),\n",
       " (86655, '0374129983', 4.0, None),\n",
       " (264152, '1573440183', 7.0, None),\n",
       " (41589, '0812566726', 9.0, None),\n",
       " (114255, '0553585118', 10.0, None),\n",
       " (158295, '0743403428', 7.0, None),\n",
       " (101305, '0805054073', 8.0, None),\n",
       " (234828, '0671690205', 8.0, None),\n",
       " (76766, '037540256X', 6.0, None),\n",
       " (278188, '1557485534', 4.0, None),\n",
       " (214714, '3499104326', 8.0, None),\n",
       " (102702, '0505524724', 10.0, None),\n",
       " (173122, '0140168125', 8.0, None),\n",
       " (27888, '0971181802', 10.0, None),\n",
       " (17950, '1405200669', 10.0, None),\n",
       " (187333, '8478886559', 8.0, None),\n",
       " (277662, '087542127X', 5.0, None),\n",
       " (153361, '0590847740', 10.0, None),\n",
       " (103336, '0060512822', 10.0, None),\n",
       " (224525, '0913866083', 10.0, None),\n",
       " (257198, '1583331298', 6.0, None),\n",
       " (94249, '0767907450', 3.0, None),\n",
       " (200248, '0821763075', 7.0, None),\n",
       " (251606, '0880642297', 6.0, None),\n",
       " (172929, '0553270222', 6.0, None),\n",
       " (98391, '0451411374', 10.0, None),\n",
       " (148613, '038529929X', 4.0, None),\n",
       " (152944, '0743469801', 7.0, None),\n",
       " (116866, '0806988142', 6.0, None),\n",
       " (257170, '3423203668', 8.0, None),\n",
       " (103577, '0439136369', 7.0, None),\n",
       " (76151, '0743439651', 10.0, None),\n",
       " (36606, '0671769669', 5.0, None),\n",
       " (19011, '0767907132', 8.0, None),\n",
       " (83743, '0140512535', 8.0, None),\n",
       " (123608, '0590483501', 6.0, None),\n",
       " (135228, '0471399205', 10.0, None),\n",
       " (248718, '0300067542', 9.0, None),\n",
       " (259264, '038072152X', 6.0, None),\n",
       " (5942, '0345387651', 7.0, None),\n",
       " (104636, '038547721X', 8.0, None),\n",
       " (204205, '0394402294', 7.0, None),\n",
       " (138441, '0553277529', 8.0, None),\n",
       " (77181, '0553274295', 8.0, None),\n",
       " (135149, '0440220602', 7.0, None),\n",
       " (212701, '0140298924', 10.0, None),\n",
       " (202572, '0385720955', 7.0, None),\n",
       " (132766, '0375400249', 10.0, None),\n",
       " (160434, '0781806429', 8.0, None),\n",
       " (199521, '3446153950', 2.0, None),\n",
       " (188731, '0446604089', 8.0, None),\n",
       " (190964, '0525939342', 5.0, None),\n",
       " (113270, '0140119906', 6.0, None),\n",
       " (273979, '1558493344', 7.0, None),\n",
       " (83671, '0425181685', 9.0, None),\n",
       " (241405, '0679775439', 9.0, None),\n",
       " (264525, '0764551531', 8.0, None),\n",
       " (124442, '1573229881', 8.0, None),\n",
       " (176293, '0446600342', 8.0, None),\n",
       " (31468, '051513225X', 5.0, None),\n",
       " (168438, '0373762674', 5.0, None),\n",
       " (1733, '0440168724', 9.0, None),\n",
       " (109416, '0440906490', 10.0, None),\n",
       " (58594, '0380810220', 7.0, None),\n",
       " (29526, '0312147015', 9.0, None),\n",
       " (4385, '0373162111', 10.0, None),\n",
       " (144241, '0671501070', 7.0, None),\n",
       " (154345, '0064401847', 7.0, None),\n",
       " (15081, '0440214041', 7.0, None),\n",
       " (2255, '0316168688', 8.0, None),\n",
       " (255078, '0395585724', 7.0, None),\n",
       " (126492, '0451156609', 7.0, None),\n",
       " (100088, '0671039725', 9.0, None),\n",
       " (153174, '0399149775', 8.0, None),\n",
       " (35433, '340414709X', 9.0, None),\n",
       " (23768, '1885222696', 7.0, None),\n",
       " (125287, '0312902026', 9.0, None),\n",
       " (123597, '0023564105', 5.0, None),\n",
       " (249228, '0060517794', 10.0, None),\n",
       " (88187, '0805036504', 8.0, None),\n",
       " (87555, '0553208845', 10.0, None),\n",
       " (11676, '1895897645', 7.0, None),\n",
       " (239626, '0140258795', 10.0, None),\n",
       " (152483, '0156029065', 9.0, None),\n",
       " (259057, '0345339703', 8.0, None),\n",
       " (258152, '0812565959', 9.0, None),\n",
       " (115682, '0671523074', 6.0, None),\n",
       " (184465, '0451154460', 9.0, None),\n",
       " (124747, '0192835688', 6.0, None),\n",
       " (163973, '0425105679', 5.0, None),\n",
       " (278525, '0446518581', 8.0, None),\n",
       " (110962, '0345339703', 6.0, None),\n",
       " (264657, '0140434151', 8.0, None),\n",
       " (225610, '0684801051', 10.0, None),\n",
       " (156269, '0425177432', 8.0, None),\n",
       " (235371, '3442444365', 7.0, None),\n",
       " (264355, '0671798324', 5.0, None),\n",
       " (6242, '0375706410', 8.0, None),\n",
       " (177114, '1551664658', 7.0, None),\n",
       " (95359, '0345441036', 9.0, None),\n",
       " (158606, '0671722220', 10.0, None),\n",
       " (136205, '0962727415', 2.0, None),\n",
       " (84495, '8390096420', 7.0, None),\n",
       " (234399, '038531700X', 9.0, None),\n",
       " (225763, '055334465X', 8.0, None),\n",
       " (173111, '0816634963', 8.0, None),\n",
       " (143163, '0385424736', 7.0, None),\n",
       " (216868, '055308013X', 6.0, None),\n",
       " (269815, '0451172027', 8.0, None),\n",
       " (88825, '0684872153', 5.0, None),\n",
       " (36822, '3423013907', 8.0, None),\n",
       " (16795, '0688173691', 8.0, None),\n",
       " (181254, '0590410083', 8.0, None),\n",
       " (13178, '2211016529', 4.0, None),\n",
       " (251339, '0312972814', 8.0, None),\n",
       " (27362, '0375750223', 8.0, None),\n",
       " (101731, '0070616930', 7.0, None),\n",
       " (94931, '034540288X', 5.0, None),\n",
       " (147451, '0743457943', 7.0, None),\n",
       " (254515, '0312975457', 8.0, None),\n",
       " (51742, '0345442121', 7.0, None),\n",
       " (166809, '0375727345', 4.0, None),\n",
       " (57265, '0380726262', 9.0, None),\n",
       " (28191, '0312243979', 7.0, None),\n",
       " (38556, '0070212570', 6.0, None),\n",
       " (135233, '0316769509', 7.0, None),\n",
       " (51883, '0345384377', 8.0, None),\n",
       " (102467, '0972761233', 10.0, None),\n",
       " (16634, '0380003570', 8.0, None),\n",
       " (147649, '2264027134', 9.0, None),\n",
       " (191803, '0060085444', 5.0, None),\n",
       " (255720, '0812543874', 7.0, None),\n",
       " (5582, '014019536X', 10.0, None),\n",
       " (273113, '0515090654', 5.0, None),\n",
       " (155287, '0060987561', 8.0, None),\n",
       " (41718, '0373217277', 5.0, None),\n",
       " (182085, '0380774933', 9.0, None),\n",
       " (245537, '0743410068', 8.0, None),\n",
       " (78448, '0393307050', 10.0, None),\n",
       " (114583, '0553284657', 4.0, None),\n",
       " (69078, '051764102X', 9.0, None),\n",
       " (85261, '0140185232', 9.0, None),\n",
       " (123094, '0912627646', 8.0, None),\n",
       " (92405, '3518414356', 8.0, None),\n",
       " (60337, '1886360103', 8.0, None),\n",
       " (11676, '0373240708', 7.0, None),\n",
       " (107889, '0671042858', 5.0, None),\n",
       " (132599, '8880891901', 4.0, None),\n",
       " (209830, '0373261322', 7.0, None),\n",
       " (256628, '8408026267', 4.0, None),\n",
       " (120427, '0874066085', 2.0, None),\n",
       " (61901, '0028600266', 8.0, None),\n",
       " (61704, '0425146812', 10.0, None),\n",
       " (11676, '0373196504', 9.0, None),\n",
       " (63714, '1852837748', 9.0, None),\n",
       " (121726, '1876719567', 7.0, None),\n",
       " (135351, '0671014919', 3.0, None),\n",
       " (43004, '0679740163', 8.0, None),\n",
       " (233526, '0006550266', 9.0, None),\n",
       " (152831, '0151446474', 9.0, None),\n",
       " (52159, '0553574663', 5.0, None),\n",
       " (98391, '0553801724', 8.0, None),\n",
       " (38802, '0345410017', 8.0, None),\n",
       " (135776, '014027166X', 9.0, None),\n",
       " (195889, '0385336306', 5.0, None),\n",
       " (131675, '9074336086', 7.0, None),\n",
       " (106179, '8478442014', 7.0, None),\n",
       " (60928, '0375703063', 8.0, None),\n",
       " (164533, '8887029210', 7.0, None),\n",
       " (126492, '0385472951', 8.0, None),\n",
       " (245871, '0749317647', 9.0, None),\n",
       " (30276, '0373226233', 7.0, None),\n",
       " (268932, '0425143627', 5.0, None),\n",
       " (243876, '3522701003', 6.0, None),\n",
       " (212965, '0843948159', 7.0, None),\n",
       " (94951, '0451452259', 8.0, None),\n",
       " (46443, '0440498058', 8.0, None),\n",
       " (227491, '0440236738', 6.0, None),\n",
       " (154730, '0425179613', 6.0, None),\n",
       " (197659, '0929239571', 9.0, None),\n",
       " (196672, '0553575023', 9.0, None),\n",
       " (158295, '0553231987', 5.0, None),\n",
       " (100066, '0393302067', 5.0, None),\n",
       " (255974, '0380761033', 3.0, None),\n",
       " (16795, '0849976162', 7.0, None),\n",
       " (152697, '0140250832', 8.0, None),\n",
       " (102223, '034532739X', 9.0, None),\n",
       " (149907, '0618056661', 9.0, None),\n",
       " (52199, '1878338021', 8.0, None),\n",
       " (81540, '080650711X', 6.0, None),\n",
       " (145641, '067982412X', 7.0, None),\n",
       " (169779, '0345369076', 8.0, None),\n",
       " (196466, '0385483414', 8.0, None),\n",
       " (233857, '0375412824', 9.0, None),\n",
       " (218831, '3596101859', 6.0, None),\n",
       " (190741, '0866229493', 9.0, None),\n",
       " (115003, '0393313166', 8.0, None),\n",
       " (244599, '0671021001', 8.0, None),\n",
       " (239145, '0738836893', 6.0, None),\n",
       " (45822, '031263546X', 4.0, None),\n",
       " (163534, '0671042793', 8.0, None),\n",
       " (30210, '0312978901', 5.0, None),\n",
       " (128060, '0345350480', 10.0, None),\n",
       " (80234, '0553208632', 8.0, None),\n",
       " (187752, '0786915528', 10.0, None),\n",
       " (120093, '0446350982', 5.0, None),\n",
       " (239162, '1886500002', 10.0, None),\n",
       " (75081, '0875420281', 10.0, None),\n",
       " (105115, '0312265840', 9.0, None),\n",
       " (174304, '0385504209', 9.0, None),\n",
       " (123544, '0345314255', 1.0, None),\n",
       " (25409, '0060532149', 7.0, None),\n",
       " (248718, '0380812932', 7.0, None),\n",
       " (273113, '0515132020', 5.0, None),\n",
       " (199416, '0679417796', 8.0, None),\n",
       " (157799, '0684872153', 9.0, None),\n",
       " (259745, '0440222915', 5.0, None),\n",
       " (230522, '0670805149', 7.0, None),\n",
       " (56856, '0440221471', 8.0, None),\n",
       " (157527, '0440226430', 6.0, None),\n",
       " (205226, '0553099558', 8.0, None),\n",
       " (271615, '0373790422', 7.0, None),\n",
       " (183101, '0451525264', 5.0, None),\n",
       " (270820, '0671739441', 9.0, None),\n",
       " (126736, '0821771264', 2.0, None),\n",
       " (148712, '067156773X', 5.0, None),\n",
       " (206249, '0380718758', 8.0, None),\n",
       " (72523, '0449206181', 5.0, None),\n",
       " (127200, '0879737964', 3.0, None),\n",
       " (251070, '0451166582', 10.0, None),\n",
       " (113817, '0552145807', 9.0, None),\n",
       " (125177, '0670894605', 8.0, None),\n",
       " (179978, '0316571202', 9.0, None),\n",
       " (168009, '0312328478', 8.0, None),\n",
       " (29259, '044021145X', 9.0, None),\n",
       " (99441, '087140284X', 9.0, None),\n",
       " (39509, '1581342195', 9.0, None),\n",
       " (56959, '0156423502', 10.0, None),\n",
       " (216155, '039397281X', 10.0, None),\n",
       " (107984, '1878825003', 6.0, None),\n",
       " (196160, '0345339681', 9.0, None),\n",
       " (276984, '0590442996', 10.0, None),\n",
       " (253556, '0883658585', 8.0, None),\n",
       " (190925, '0380780879', 8.0, None),\n",
       " (227836, '0671876333', 8.0, None),\n",
       " (81318, '0312263120', 6.0, None),\n",
       " (33179, '034536676X', 10.0, None),\n",
       " (164519, '0471614831', 3.0, None),\n",
       " (55490, '0425105466', 2.0, None),\n",
       " (233723, '0312278586', 8.0, None),\n",
       " (153620, '0671438190', 7.0, None),\n",
       " (112519, '0892965681', 8.0, None),\n",
       " (51883, '0671730495', 10.0, None),\n",
       " (126827, '0767907817', 10.0, None),\n",
       " (178255, '0299077349', 8.0, None),\n",
       " (160636, '0440204887', 8.0, None),\n",
       " (262666, '0743427149', 10.0, None),\n",
       " (26535, '0451201914', 5.0, None),\n",
       " (13552, '0060517212', 8.0, None),\n",
       " (89057, '0743204840', 10.0, None),\n",
       " (272225, '0446611212', 8.0, None),\n",
       " (243493, '0060959037', 8.0, None),\n",
       " (146025, '0844279854', 5.0, None),\n",
       " (93629, '0140072748', 9.0, None),\n",
       " (123867, '0684810395', 8.0, None),\n",
       " (98758, '0515129038', 8.0, None),\n",
       " (69964, '0689818769', 9.0, None),\n",
       " (217089, '0671683225', 6.0, None),\n",
       " (30291, '0440235596', 7.0, None),\n",
       " (269566, '0345370775', 7.0, None),\n",
       " (260655, '0060283122', 9.0, None),\n",
       " (43246, '0425167135', 8.0, None),\n",
       " (69602, '0385421982', 3.0, None),\n",
       " (177157, '014023313X', 9.0, None),\n",
       " (131154, '0842329129', 8.0, None),\n",
       " (225366, '0060961325', 6.0, None),\n",
       " (169663, '0440479002', 3.0, None),\n",
       " (97679, '0060907002', 9.0, None),\n",
       " (158433, '0312985207', 8.0, None),\n",
       " (204864, '0679785892', 8.0, None),\n",
       " (227455, '0152026088', 10.0, None),\n",
       " (194605, '0345440048', 8.0, None),\n",
       " (249953, '0871401525', 9.0, None),\n",
       " (103811, '0375725784', 6.0, None),\n",
       " (195064, '014028009X', 10.0, None),\n",
       " (270096, '0452274427', 8.0, None),\n",
       " (195264, '0671525832', 5.0, None),\n",
       " (219278, '0060801263', 10.0, None),\n",
       " (41700, '3596129389', 4.0, None),\n",
       " (98391, '0778320065', 8.0, None),\n",
       " (36978, '0671039415', 8.0, None),\n",
       " (112026, '0060915544', 9.0, None),\n",
       " (104298, '0553298186', 5.0, None),\n",
       " (104569, '0743223551', 7.0, None),\n",
       " (103377, '0451166892', 8.0, None),\n",
       " (11676, '0811805530', 10.0, None),\n",
       " (32773, '0448095017', 9.0, None),\n",
       " (227447, '0425185419', 6.0, None),\n",
       " (136020, '1574411586', 8.0, None),\n",
       " (115003, '0060987103', 5.0, None),\n",
       " (187145, '080213985X', 8.0, None),\n",
       " (120735, '0553576453', 5.0, None),\n",
       " (219683, '0394825225', 7.0, None),\n",
       " (201290, '0345353145', 9.0, None),\n",
       " (53220, '0380718340', 8.0, None),\n",
       " (164179, '0671003755', 8.0, None),\n",
       " (164673, '0670872792', 8.0, None),\n",
       " (33933, '0380713748', 5.0, None),\n",
       " (138495, '0297607391', 4.0, None),\n",
       " (259629, '0312924585', 10.0, None),\n",
       " (180316, '8495618109', 8.0, None),\n",
       " (138138, '0671034782', 5.0, None),\n",
       " (76626, '0333750381', 9.0, None),\n",
       " (209516, '0312298994', 8.0, None),\n",
       " (87938, '0345422392', 8.0, None),\n",
       " (140232, '3442442583', 7.0, None),\n",
       " (14698, '0787116947', 6.0, None),\n",
       " (207148, '0446527785', 8.0, None),\n",
       " (202006, '037582233X', 6.0, None),\n",
       " (81551, '0345333152', 10.0, None),\n",
       " (234721, '0446610836', 8.0, None),\n",
       " (246313, '0380809389', 9.0, None),\n",
       " (96475, '0393959007', 10.0, None),\n",
       " (117577, '0440226430', 9.0, None),\n",
       " (271144, '068484477X', 8.0, None),\n",
       " (108685, '0375726349', 10.0, None),\n",
       " (273920, '067179647X', 7.0, None),\n",
       " (68758, '0609608568', 9.0, None),\n",
       " (209160, '0553131893', 6.0, None),\n",
       " (214299, '0399145362', 6.0, None),\n",
       " (198767, '0312954468', 8.0, None),\n",
       " (120565, '0330304372', 9.0, None),\n",
       " (101245, '0929448138', 10.0, None),\n",
       " (144038, '0060916516', 9.0, None),\n",
       " (190054, '0517175126', 7.0, None),\n",
       " (52203, '2290312924', 10.0, None),\n",
       " (211344, '0590483455', 6.0, None),\n",
       " (250474, '0425140318', 9.0, None),\n",
       " (156150, '1877657190', 10.0, None),\n",
       " (32148, '0451205235', 7.0, None),\n",
       " (203017, '0133884635', 8.0, None),\n",
       " (29698, '0895771950', 8.0, None),\n",
       " (262828, '8484502406', 7.0, None),\n",
       " (273113, '0373243286', 5.0, None),\n",
       " (86243, '0749922303', 5.0, None),\n",
       " (43004, '0679733140', 8.0, None),\n",
       " (190923, '0060805501', 6.0, None),\n",
       " (60244, '0312966970', 9.0, None),\n",
       " (165806, '0452284627', 7.0, None),\n",
       " (236805, '0451184963', 10.0, None),\n",
       " (63854, '0871139006', 9.0, None),\n",
       " (76626, '0198601158', 9.0, None),\n",
       " (240035, '0553260960', 8.0, None),\n",
       " (26112, '0571206484', 10.0, None),\n",
       " (210858, '0515038628', 2.0, None),\n",
       " (11657, '0060987561', 5.0, None),\n",
       " (79933, '3423084065', 10.0, None),\n",
       " (69697, '0373790775', 9.0, None),\n",
       " (65233, '0380514745', 8.0, None),\n",
       " (136927, '0399501487', 8.0, None),\n",
       " (268932, '0316111236', 7.0, None),\n",
       " (122626, '0385333293', 5.0, None),\n",
       " (18672, '0373292139', 7.0, None),\n",
       " (153950, '0156028778', 9.0, None),\n",
       " (102978, '1563898586', 8.0, None),\n",
       " (271705, '0312195516', 8.0, None),\n",
       " (26258, '039912845X', 7.0, None),\n",
       " (99032, '0060745908', 8.0, None),\n",
       " (115120, '042514545X', 10.0, None),\n",
       " (21011, '1573221473', 9.0, None),\n",
       " (200245, '0345305809', 5.0, None),\n",
       " (240144, '1557504482', 10.0, None),\n",
       " (7970, '0385323964', 5.0, None),\n",
       " (98391, '0066211247', 8.0, None),\n",
       " (271195, '0898794633', 10.0, None),\n",
       " (94709, '0971500703', 10.0, None),\n",
       " (161831, '0373243510', 8.0, None),\n",
       " (150627, '0449006530', 7.0, None),\n",
       " (179433, '0515113514', 5.0, None),\n",
       " (169192, '0026893304', 5.0, None),\n",
       " (88733, '0062505173', 10.0, None),\n",
       " (44677, '0425163865', 10.0, None),\n",
       " (173888, '0020418604', 7.0, None),\n",
       " (254899, '0352333065', 4.0, None),\n",
       " (173694, '8466302042', 9.0, None),\n",
       " (199515, '0345313860', 10.0, None),\n",
       " (177744, '0449207986', 7.0, None),\n",
       " (204864, '1931561486', 8.0, None),\n",
       " (179744, '0898798159', 7.0, None),\n",
       " (214786, '0451142934', 10.0, None),\n",
       " (211610, '2266117068', 8.0, None),\n",
       " (55734, '0749308494', 6.0, None),\n",
       " (103304, '0515120898', 10.0, None),\n",
       " (185233, '0836218353', 5.0, None),\n",
       " (8782, '0451457994', 10.0, None),\n",
       " (250300, '1576736989', 8.0, None),\n",
       " (78834, '0141312416', 5.0, None),\n",
       " (101630, '0688151345', 10.0, None),\n",
       " (170401, '034540288X', 6.0, None),\n",
       " (151125, '044021145X', 10.0, None),\n",
       " (132407, '1561707295', 10.0, None),\n",
       " (103606, '0590444646', 10.0, None),\n",
       " (122429, '014007645X', 6.0, None),\n",
       " (148966, '0373123973', 6.0, None),\n",
       " (102564, '0373484224', 5.0, None),\n",
       " (66942, '9679994716', 9.0, None),\n",
       " (111604, '0553560735', 8.0, None),\n",
       " (164696, '0786864672', 8.0, None),\n",
       " (56723, '0440218802', 8.0, None),\n",
       " (254299, '0345440765', 6.0, None),\n",
       " (156395, '0446677450', 9.0, None),\n",
       " (184853, '8474550041', 9.0, None),\n",
       " (88797, '0316545139', 8.0, None),\n",
       " (89901, '0743418174', 9.0, None),\n",
       " (193482, '081297106X', 5.0, None),\n",
       " (135141, '0671723308', 5.0, None),\n",
       " (236757, '0684809346', 5.0, None),\n",
       " (101876, '0553280368', 9.0, None),\n",
       " (203649, '0679777660', 10.0, None),\n",
       " (87141, '0446516775', 8.0, None),\n",
       " (80945, '0312966830', 7.0, None),\n",
       " (138393, '0813122171', 10.0, None),\n",
       " (116744, '0915144034', 10.0, None),\n",
       " (190298, '0517161257', 10.0, None),\n",
       " (34592, '0345361792', 10.0, None),\n",
       " (18741, '3257228791', 9.0, None),\n",
       " (24194, '0761124209', 10.0, None),\n",
       " (249894, '0020125607', 10.0, None),\n",
       " (3948, '0393038025', 10.0, None),\n",
       " (85492, '0689121695', 5.0, None),\n",
       " (220095, '1582341338', 10.0, None),\n",
       " (81368, '0767917413', 8.0, None),\n",
       " (159489, '0571197639', 10.0, None),\n",
       " (260879, '3404114787', 7.0, None),\n",
       " (88435, '0785355006', 5.0, None),\n",
       " (95932, '0671169750', 5.0, None),\n",
       " (88733, '0933031157', 10.0, None),\n",
       " (60583, '0375400117', 7.0, None),\n",
       " (223087, '0439385792', 5.0, None),\n",
       " (271460, '0743456866', 5.0, None),\n",
       " (46398, '0060566221', 7.0, None),\n",
       " (173809, '0140077154', 6.0, None),\n",
       " (127233, '0440241162', 8.0, None),\n",
       " (70666, '0899091679', 10.0, None),\n",
       " (225886, '0380759470', 7.0, None),\n",
       " (95452, '0151008116', 5.0, None),\n",
       " (51386, '0671660187', 10.0, None),\n",
       " (184465, '0399116974', 6.0, None),\n",
       " (157799, '0316788228', 9.0, None),\n",
       " (69389, '0553279556', 8.0, None),\n",
       " (102702, '0452281423', 10.0, None),\n",
       " (234672, '0312319142', 8.0, None),\n",
       " (240567, '0802731805', 3.0, None),\n",
       " (100903, '0446610127', 8.0, None),\n",
       " (98391, '0765302241', 9.0, None),\n",
       " (151991, '0345404742', 7.0, None),\n",
       " (152960, '0684826976', 10.0, None),\n",
       " (2766, '1576737284', 9.0, None),\n",
       " (98391, '0373250312', 9.0, None),\n",
       " (11676, '093852903X', 10.0, None),\n",
       " (176838, '2253149101', 10.0, None),\n",
       " (60787, '0194366707', 8.0, None),\n",
       " (31315, '078531685X', 10.0, None),\n",
       " (23902, '033029623X', 10.0, None),\n",
       " (128588, '0446605239', 6.0, None),\n",
       " (101209, '0380790068', 6.0, None),\n",
       " (259249, '0140566481', 10.0, None),\n",
       " (56399, '0897332202', 10.0, None),\n",
       " (245128, '003022313X', 7.0, None),\n",
       " (9856, '0671724169', 7.0, None),\n",
       " (265313, '0425158632', 7.0, None),\n",
       " (120598, '0425162443', 9.0, None),\n",
       " (262151, '0553073958', 5.0, None),\n",
       " (138844, '0864175604', 10.0, None),\n",
       " (98391, '051513628X', 10.0, None),\n",
       " (240394, '0345381718', 5.0, None),\n",
       " (225986, '0140099891', 8.0, None),\n",
       " (270820, '0606298347', 7.0, None),\n",
       " (244420, '0440441625', 10.0, None),\n",
       " (76151, '0671010107', 10.0, None),\n",
       " (264082, '0671568833', 8.0, None),\n",
       " (193560, '0099402599', 8.0, None),\n",
       " (212350, '0380817845', 8.0, None),\n",
       " (254226, '1567402054', 9.0, None),\n",
       " (43639, '1551664348', 10.0, None),\n",
       " (158238, '0380731851', 8.0, None),\n",
       " (212344, '0440214041', 8.0, None),\n",
       " (114700, '0876120419', 10.0, None),\n",
       " (251890, '0425130711', 5.0, None),\n",
       " (189835, '0440411254', 5.0, None),\n",
       " (263460, '0440219817', 9.0, None),\n",
       " (72352, '0671002171', 6.0, None),\n",
       " (16795, '0307302636', 5.0, None),\n",
       " (254822, '0887532764', 4.0, None),\n",
       " (115002, '042519485X', 6.0, None),\n",
       " (138777, '0151269300', 6.0, None),\n",
       " (255105, '0812540220', 9.0, None),\n",
       " (8890, '2221078306', 7.0, None),\n",
       " (61854, '0373833423', 10.0, None),\n",
       " (240403, '0064400859', 10.0, None),\n",
       " (222941, '0446600830', 7.0, None),\n",
       " (145161, '086318328X', 10.0, None),\n",
       " (218552, '0886463335', 1.0, None),\n",
       " (11676, '0553260219', 7.0, None),\n",
       " (15185, '9505810423', 10.0, None),\n",
       " (39745, '3499155176', 7.0, None),\n",
       " (252820, '0671625829', 8.0, None),\n",
       " (92547, '0871239000', 10.0, None),\n",
       " (241548, '0883962365', 10.0, None),\n",
       " (250709, '0028810384', 5.0, None),\n",
       " (208600, '0671041789', 10.0, None),\n",
       " (31393, '0380732149', 7.0, None),\n",
       " (111578, '0399144463', 10.0, None),\n",
       " (34588, '0679748091', 8.0, None),\n",
       " (168714, '0966103203', 6.0, None),\n",
       " (238864, '031231616X', 8.0, None),\n",
       " (23902, '1842320645', 7.0, None),\n",
       " (215986, '037541326X', 8.0, None),\n",
       " (48046, '0684808560', 5.0, None),\n",
       " (127914, '0380785218', 7.0, None),\n",
       " (258160, '0440215439', 9.0, None),\n",
       " (181687, '0345447840', 8.0, None),\n",
       " (57959, '0553133969', 6.0, None),\n",
       " (28205, '0553270184', 5.0, None),\n",
       " (61257, '038531387X', 8.0, None),\n",
       " (255935, '8420633119', 10.0, None),\n",
       " (166569, '0671876198', 8.0, None),\n",
       " (69078, '0374500606', 8.0, None),\n",
       " (131126, '0451177096', 8.0, None),\n",
       " (235105, '1558021566', 8.0, None),\n",
       " (162028, '0440226430', 10.0, None),\n",
       " (100906, '0517570327', 10.0, None),\n",
       " (267192, '0020199600', 10.0, None),\n",
       " (138380, '0452281296', 5.0, None),\n",
       " (94347, '0140057781', 7.0, None),\n",
       " (237474, '0140293248', 7.0, None),\n",
       " (225731, '0684168391', 5.0, None),\n",
       " (110214, '039450898X', 5.0, None),\n",
       " (75612, '3791508210', 6.0, None),\n",
       " (154126, '0312974035', 5.0, None),\n",
       " (213661, '1557736626', 9.0, None),\n",
       " (98391, '1551667320', 10.0, None),\n",
       " (5932, '0684825414', 6.0, None),\n",
       " (187598, '225317226X', 6.0, None),\n",
       " (216683, '0553239430', 6.0, None),\n",
       " (23872, '0671684264', 7.0, None),\n",
       " (254971, '0380705354', 10.0, None),\n",
       " (177186, '0441002137', 5.0, None),\n",
       " (33269, '0385720106', 8.0, None),\n",
       " (6563, '069452526X', 8.0, None),\n",
       " (240756, '0590452037', 5.0, None),\n",
       " (193938, '0375506764', 7.0, None),\n",
       " (193458, '0345342569', 9.0, None),\n",
       " (13552, '0679412956', 8.0, None),\n",
       " (70703, '0140620648', 5.0, None),\n",
       " (218221, '0843946237', 10.0, None),\n",
       " (92851, '0345418913', 9.0, None),\n",
       " (183958, '0700701419', 7.0, None),\n",
       " (222035, '0060938455', 7.0, None),\n",
       " (51962, '0679750533', 7.0, None),\n",
       " (167812, '0679721037', 7.0, None),\n",
       " (259260, '0515136557', 8.0, None),\n",
       " (59172, '0440209412', 10.0, None),\n",
       " (3827, '0385499094', 8.0, None),\n",
       " (41892, '0316096199', 9.0, None),\n",
       " (227025, '0449003787', 7.0, None),\n",
       " (151991, '0452269091', 7.0, None),\n",
       " (28076, '0821771108', 7.0, None),\n",
       " (212411, '1589199669', 9.0, None),\n",
       " (75260, '3499100355', 8.0, None),\n",
       " (244685, '0553571834', 8.0, None),\n",
       " (173343, '0912381035', 10.0, None),\n",
       " (20806, '0385500769', 6.0, None),\n",
       " (270131, '0451210638', 8.0, None),\n",
       " (28255, '1853260045', 8.0, None),\n",
       " (11662, '059049418X', 6.0, None),\n",
       " (198400, '0451160525', 10.0, None),\n",
       " (40885, '1893956032', 10.0, None),\n",
       " (8284, '0590568817', 9.0, None),\n",
       " (39345, '0446363669', 4.0, None),\n",
       " (15841, '0345345304', 8.0, None),\n",
       " (134596, '1585746827', 7.0, None),\n",
       " (217986, '0812533313', 8.0, None),\n",
       " (37950, '0684803860', 6.0, None),\n",
       " (245827, '0451186362', 5.0, None),\n",
       " (191815, '0061007153', 5.0, None),\n",
       " (87964, '0440405483', 5.0, None),\n",
       " (229184, '0671023888', 8.0, None),\n",
       " (26615, '0385479646', 6.0, None),\n",
       " (25533, '0380807343', 10.0, None),\n",
       " (104399, '0517065533', 10.0, None),\n",
       " (217270, '0399134409', 9.0, None),\n",
       " (195723, '0345337662', 9.0, None),\n",
       " (255489, '0446343455', 6.0, None),\n",
       " (107784, '0440416795', 5.0, None),\n",
       " (104657, '0679805273', 9.0, None),\n",
       " (138198, '080410526X', 8.0, None),\n",
       " (39133, '1566631955', 4.0, None),\n",
       " (88674, '0061093335', 5.0, None),\n",
       " (194229, '0671600613', 10.0, None),\n",
       " (48156, '1862075387', 8.0, None),\n",
       " (114868, '0446692298', 10.0, None),\n",
       " (38832, '0399504532', 9.0, None),\n",
       " (161619, '0553572334', 5.0, None),\n",
       " (182085, '0373034571', 10.0, None),\n",
       " (196317, '0060740450', 8.0, None),\n",
       " (98547, '0446677450', 8.0, None),\n",
       " (267920, '0060928336', 10.0, None),\n",
       " (12538, '1564581772', 10.0, None),\n",
       " (59763, '0849931304', 7.0, None),\n",
       " (160401, '0440235774', 5.0, None),\n",
       " (262151, '0440224764', 8.0, None),\n",
       " (11676, '081331772X', 5.0, None),\n",
       " (27862, '0600006042', 10.0, None),\n",
       " (225986, '0140258574', 10.0, None),\n",
       " (145641, '080410526X', 7.0, None),\n",
       " (46398, '0380752859', 8.0, None),\n",
       " (154083, '0451409256', 9.0, None),\n",
       " (169310, '0517556278', 9.0, None),\n",
       " (26516, '0373244428', 9.0, None),\n",
       " (26553, '0671694049', 10.0, None),\n",
       " (169243, '0515121495', 10.0, None),\n",
       " (175399, '0671743880', 7.0, None),\n",
       " (43864, '0446670251', 8.0, None),\n",
       " (172888, '2267004836', 7.0, None),\n",
       " (172976, '0679457526', 9.0, None),\n",
       " (16258, '0786927895', 8.0, None),\n",
       " (236097, '0451520750', 8.0, None),\n",
       " (172962, '0373762747', 3.0, None),\n",
       " (147045, '0141002077', 5.0, None),\n",
       " (140662, '0440235421', 9.0, None),\n",
       " (46663, '0786866586', 5.0, None),\n",
       " (162219, '0515102652', 5.0, None),\n",
       " (123597, '0802082106', 10.0, None),\n",
       " (155147, '067181785X', 6.0, None),\n",
       " (199167, '2020054043', 8.0, None),\n",
       " (74670, '0345384466', 8.0, None),\n",
       " (277937, '0684848406', 6.0, None),\n",
       " (228351, '0060930187', 8.0, None),\n",
       " (219546, '0671738224', 9.0, None),\n",
       " (139467, '0140272100', 5.0, None),\n",
       " (223675, '0316955167', 9.0, None),\n",
       " (254206, '0345333306', 10.0, None),\n",
       " (98391, '038097844X', 8.0, None),\n",
       " (98391, '0451411420', 10.0, None),\n",
       " (37311, '0385337639', 6.0, None),\n",
       " (253626, '0312422164', 8.0, None),\n",
       " (113902, '0446607207', 8.0, None),\n",
       " (32627, '0449243214', 7.0, None),\n",
       " (96936, '0440226406', 6.0, None),\n",
       " (195904, '068485466X', 9.0, None),\n",
       " (137620, '0394585232', 3.0, None),\n",
       " (65258, '0449148041', 7.0, None),\n",
       " (217669, '0385336314', 9.0, None),\n",
       " (231330, '0914171720', 8.0, None),\n",
       " (174655, '0316602906', 9.0, None),\n",
       " (204474, '1558743316', 1.0, None),\n",
       " (102359, '039480029X', 10.0, None),\n",
       " (222319, '0345361571', 9.0, None),\n",
       " (204959, '0007103867', 6.0, None),\n",
       " (11676, '0312966091', 8.0, None),\n",
       " (274623, '1561483761', 10.0, None),\n",
       " (42718, '0688167519', 10.0, None),\n",
       " (159485, '0345382323', 7.0, None),\n",
       " (100906, '0805055517', 8.0, None),\n",
       " (90668, '0060927569', 10.0, None),\n",
       " (242262, '156231419X', 7.0, None),\n",
       " (239736, '0552143243', 10.0, None),\n",
       " (247336, '0684872153', 10.0, None),\n",
       " (266753, '0446400009', 8.0, None),\n",
       " (112298, '0345433491', 6.0, None),\n",
       " (163824, '2867142210', 7.0, None),\n",
       " (3975, '0375760911', 9.0, None),\n",
       " (110373, '044022165X', 8.0, None),\n",
       " (98391, '0515134155', 8.0, None),\n",
       " (38556, '0752848224', 5.0, None),\n",
       " (79441, '0894801260', 8.0, None),\n",
       " (23902, '0140042598', 10.0, None),\n",
       " (249894, '0671319930', 9.0, None),\n",
       " (172010, '1569316430', 10.0, None),\n",
       " (5746, '0679742565', 6.0, None),\n",
       " (134403, '0345413369', 10.0, None),\n",
       " (190637, '0060930934', 10.0, None),\n",
       " (258084, '1931561648', 8.0, None),\n",
       " (23902, '1850150605', 8.0, None),\n",
       " (98391, '039914854X', 9.0, None),\n",
       " (16795, '0307102262', 7.0, None),\n",
       " (26611, '0142000205', 6.0, None),\n",
       " (11676, '1551667967', 6.0, None),\n",
       " (167931, '0312244274', 8.0, None),\n",
       " (224349, '0691000867', 10.0, None),\n",
       " (258905, '0399143130', 5.0, None),\n",
       " (86033, '0970222475', 8.0, None),\n",
       " (199740, '0452282934', 8.0, None),\n",
       " (251422, '0684801469', 10.0, None),\n",
       " (243360, '0671727079', 9.0, None),\n",
       " (264085, '0679745203', 10.0, None),\n",
       " (93698, '0804109729', 9.0, None),\n",
       " (163784, '0373320132', 3.0, None),\n",
       " (27141, '038001503X', 10.0, None),\n",
       " (109574, '0788168258', 10.0, None),\n",
       " (98440, '1577780728', 10.0, None),\n",
       " (257187, '0736037772', 5.0, None),\n",
       " (9313, '055358068X', 6.0, None),\n",
       " (168047, '1567312500', 10.0, None),\n",
       " (251058, '0740704818', 8.0, None),\n",
       " (21692, '0192834355', 6.0, None),\n",
       " (156467, '044021145X', 10.0, None),\n",
       " (196148, '0836217691', 10.0, None),\n",
       " (90198, '0671016652', 3.0, None),\n",
       " (121264, '0609608444', 7.0, None),\n",
       " (18012, '0836221311', 10.0, None),\n",
       " (248496, '0671648918', 9.0, None),\n",
       " (11676, '0446605409', 10.0, None),\n",
       " (52203, '2253005495', 7.0, None),\n",
       " (254268, '0879736712', 8.0, None),\n",
       " (85656, '0061091790', 10.0, None),\n",
       " (187145, '0486415872', 10.0, None),\n",
       " (274111, '0910239126', 8.0, None),\n",
       " (25930, '0375727345', 5.0, None),\n",
       " (232736, '0688148638', 8.0, None),\n",
       " (33145, '2260014720', 7.0, None),\n",
       " (33145, '2246592917', 8.0, None),\n",
       " (23872, '0525459537', 5.0, None),\n",
       " (100644, '1853260037', 9.0, None),\n",
       " (110093, '1567314260', 6.0, None),\n",
       " (134193, '0440200563', 5.0, None),\n",
       " (118688, '3442541921', 8.0, None),\n",
       " (110934, '0679736379', 8.0, None),\n",
       " (125774, '0140148590', 8.0, None),\n",
       " (247429, '0140430164', 10.0, None),\n",
       " (151503, '0345351525', 6.0, None),\n",
       " (81807, '3729602233', 10.0, None),\n",
       " (226946, '0553280414', 7.0, None),\n",
       " (139221, '0609807226', 10.0, None),\n",
       " (136252, '0805063897', 7.0, None),\n",
       " (30487, '0671776134', 8.0, None),\n",
       " (197659, '0911104801', 10.0, None),\n",
       " (38360, '0312289871', 5.0, None),\n",
       " (100984, '0842329269', 8.0, None),\n",
       " (13273, '015100692X', 9.0, None),\n",
       " (106583, '0671877968', 3.0, None),\n",
       " (86947, '0130038482', 10.0, None),\n",
       " (114654, '0812517717', 10.0, None),\n",
       " (146266, '0312316690', 8.0, None),\n",
       " (187256, '0679446486', 10.0, None),\n",
       " (222304, '3442416310', 3.0, None),\n",
       " (171703, '0883682796', 5.0, None),\n",
       " (86861, '0060175400', 5.0, None),\n",
       " (137636, '0684853612', 8.0, None),\n",
       " (55187, '0471579734', 5.0, None),\n",
       " (34702, '0312201656', 7.0, None),\n",
       " (177630, '0451166361', 10.0, None),\n",
       " (93565, '078686723X', 8.0, None),\n",
       " (69156, '0765300176', 5.0, None),\n",
       " (28634, '0440226104', 9.0, None),\n",
       " (258011, '0140142223', 8.0, None),\n",
       " (5942, '0842329129', 2.0, None),\n",
       " (229741, '0743464672', 8.0, None),\n",
       " (212275, '0375802932', 8.0, None),\n",
       " (122883, '0345356365', 5.0, None),\n",
       " (93591, '0446677035', 9.0, None),\n",
       " (183532, '0884860884', 5.0, None),\n",
       " (107784, '1551668513', 5.0, None),\n",
       " (135776, '0812521390', 9.0, None),\n",
       " (135799, '0670881767', 7.0, None),\n",
       " (235105, '059043389X', 10.0, None),\n",
       " (56399, '1567188117', 10.0, None),\n",
       " (251467, '0689857055', 10.0, None),\n",
       " (45315, '068484267X', 7.0, None),\n",
       " (158374, '0440222656', 2.0, None),\n",
       " (11676, '0425144062', 6.0, None),\n",
       " (31421, '0020777108', 5.0, None),\n",
       " (214176, '0451207521', 8.0, None),\n",
       " (199025, '0449147606', 7.0, None),\n",
       " (16795, '0767905938', 9.0, None),\n",
       " (162738, '0060830956', 9.0, None),\n",
       " (5209, '087542127X', 9.0, None),\n",
       " (111417, '3442726247', 9.0, None),\n",
       " (49900, '0451206444', 8.0, None),\n",
       " (245311, '0345438329', 7.0, None),\n",
       " (199209, '0345387007', 8.0, None),\n",
       " (93047, '1561631523', 9.0, None),\n",
       " (234828, '0941540219', 9.0, None),\n",
       " (25981, '0525441603', 5.0, None),\n",
       " (276167, '0345409329', 3.0, None),\n",
       " (14422, '0688176852', 9.0, None),\n",
       " (219683, '0140230165', 10.0, None),\n",
       " (91100, '0310228654', 7.0, None),\n",
       " (100519, '1573241717', 8.0, None),\n",
       " (266299, '0385413041', 8.0, None),\n",
       " (104236, '1565928717', 10.0, None),\n",
       " (268882, '0446322075', 3.0, None),\n",
       " (29209, '0380733234', 5.0, None),\n",
       " (55492, '1573225665', 9.0, None),\n",
       " (137953, '067976402X', 7.0, None),\n",
       " (262998, '0199255776', 8.0, None),\n",
       " (177968, '0425141977', 8.0, None),\n",
       " (151762, '0140268022', 3.0, None),\n",
       " (96168, '3453092481', 10.0, None),\n",
       " (66878, '0451410742', 9.0, None),\n",
       " (80945, '0440220696', 7.0, None),\n",
       " (88142, '0971880107', 9.0, None),\n",
       " (219924, '0670030031', 8.0, None),\n",
       " (128696, '0553280341', 6.0, None),\n",
       " (60028, '0446520322', 7.0, None),\n",
       " (142524, '0892965614', 8.0, None),\n",
       " (12756, '0375502947', 7.0, None),\n",
       " (274111, '0862418003', 9.0, None),\n",
       " (84671, '0345335465', 6.0, None),\n",
       " (113643, '3518367749', 8.0, None),\n",
       " (153910, '0385479565', 8.0, None),\n",
       " (12559, '1859028519', 9.0, None),\n",
       " (180957, '0590673203', 5.0, None),\n",
       " (69211, '0441374239', 5.0, None),\n",
       " (8930, '0140257934', 8.0, None),\n",
       " (100906, '0061073091', 8.0, None),\n",
       " (132836, '0399131493', 9.0, None),\n",
       " (156467, '1551668653', 9.0, None),\n",
       " (11676, '0679400702', 5.0, None),\n",
       " (171118, '0312931123', 4.0, None),\n",
       " (234410, '0060929650', 6.0, None),\n",
       " (239584, '0316666343', 10.0, None),\n",
       " (153342, '0671673653', 7.0, None),\n",
       " (230179, '0971662304', 10.0, None),\n",
       " (181076, '1575661489', 8.0, None),\n",
       " (20204, '0380708388', 10.0, None),\n",
       " (85173, '3442453658', 2.0, None),\n",
       " (83971, '0312243022', 9.0, None),\n",
       " (2041, '0151003394', 8.0, None),\n",
       " (180651, '0747221782', 8.0, None),\n",
       " (144828, '0345424719', 8.0, None),\n",
       " (101305, '0684195488', 9.0, None),\n",
       " (191986, '0345443284', 5.0, None),\n",
       " (167625, '059035342X', 10.0, None),\n",
       " (57989, '0451523008', 9.0, None),\n",
       " (204663, '0140327592', 10.0, None),\n",
       " (178445, '0875884415', 6.0, None),\n",
       " ...]"
      ]
     },
     "execution_count": 217,
     "metadata": {},
     "output_type": "execute_result"
    }
   ],
   "source": [
    "data1.raw_ratings"
   ]
  },
  {
   "cell_type": "code",
   "execution_count": 218,
   "metadata": {},
   "outputs": [],
   "source": [
    "data1_train=data1.build_full_trainset()"
   ]
  },
  {
   "cell_type": "code",
   "execution_count": 219,
   "metadata": {},
   "outputs": [],
   "source": [
    "import surprise.prediction_algorithms.knns as knns\n",
    "knnbasic=knns.KNNWithMeans(k=40,min_k=1,sim_options={'name':'cosine','user_based':True})"
   ]
  },
  {
   "cell_type": "code",
   "execution_count": 220,
   "metadata": {},
   "outputs": [
    {
     "name": "stdout",
     "output_type": "stream",
     "text": [
      "Computing the cosine similarity matrix...\n",
      "Done computing similarity matrix.\n"
     ]
    },
    {
     "data": {
      "text/plain": [
       "<surprise.prediction_algorithms.knns.KNNWithMeans at 0x18d4736fd30>"
      ]
     },
     "execution_count": 220,
     "metadata": {},
     "output_type": "execute_result"
    }
   ],
   "source": [
    "knnbasic.train(data1_train)"
   ]
  },
  {
   "cell_type": "code",
   "execution_count": 221,
   "metadata": {},
   "outputs": [
    {
     "data": {
      "text/html": [
       "<div>\n",
       "<style scoped>\n",
       "    .dataframe tbody tr th:only-of-type {\n",
       "        vertical-align: middle;\n",
       "    }\n",
       "\n",
       "    .dataframe tbody tr th {\n",
       "        vertical-align: top;\n",
       "    }\n",
       "\n",
       "    .dataframe thead th {\n",
       "        text-align: right;\n",
       "    }\n",
       "</style>\n",
       "<table border=\"1\" class=\"dataframe\">\n",
       "  <thead>\n",
       "    <tr style=\"text-align: right;\">\n",
       "      <th></th>\n",
       "      <th>user</th>\n",
       "      <th>item</th>\n",
       "      <th>rating</th>\n",
       "    </tr>\n",
       "  </thead>\n",
       "  <tbody>\n",
       "    <tr>\n",
       "      <th>584624</th>\n",
       "      <td>141073</td>\n",
       "      <td>0373833598</td>\n",
       "      <td>6</td>\n",
       "    </tr>\n",
       "    <tr>\n",
       "      <th>907814</th>\n",
       "      <td>220586</td>\n",
       "      <td>006000438X</td>\n",
       "      <td>8</td>\n",
       "    </tr>\n",
       "    <tr>\n",
       "      <th>91387</th>\n",
       "      <td>20265</td>\n",
       "      <td>0345323750</td>\n",
       "      <td>8</td>\n",
       "    </tr>\n",
       "    <tr>\n",
       "      <th>60294</th>\n",
       "      <td>12153</td>\n",
       "      <td>0688013929</td>\n",
       "      <td>9</td>\n",
       "    </tr>\n",
       "    <tr>\n",
       "      <th>815161</th>\n",
       "      <td>198507</td>\n",
       "      <td>0375502025</td>\n",
       "      <td>7</td>\n",
       "    </tr>\n",
       "  </tbody>\n",
       "</table>\n",
       "</div>"
      ],
      "text/plain": [
       "          user        item  rating\n",
       "584624  141073  0373833598  6     \n",
       "907814  220586  006000438X  8     \n",
       "91387   20265   0345323750  8     \n",
       "60294   12153   0688013929  9     \n",
       "815161  198507  0375502025  7     "
      ]
     },
     "execution_count": 221,
     "metadata": {},
     "output_type": "execute_result"
    }
   ],
   "source": [
    "data.head()"
   ]
  },
  {
   "cell_type": "code",
   "execution_count": 222,
   "metadata": {},
   "outputs": [
    {
     "data": {
      "text/plain": [
       "dtype('O')"
      ]
     },
     "execution_count": 222,
     "metadata": {},
     "output_type": "execute_result"
    }
   ],
   "source": [
    "data['item'].dtypes"
   ]
  },
  {
   "cell_type": "code",
   "execution_count": 223,
   "metadata": {},
   "outputs": [
    {
     "data": {
      "text/plain": [
       "Prediction(uid=20265, iid='0345323750', r_ui=None, est=8.85909090909091, details={'actual_k': 3, 'was_impossible': False})"
      ]
     },
     "execution_count": 223,
     "metadata": {},
     "output_type": "execute_result"
    }
   ],
   "source": [
    "knnbasic.predict(uid=20265,iid='0345323750')"
   ]
  },
  {
   "cell_type": "code",
   "execution_count": 224,
   "metadata": {},
   "outputs": [
    {
     "name": "stdout",
     "output_type": "stream",
     "text": [
      "Evaluating RMSE, MAE of algorithm KNNWithMeans.\n",
      "\n",
      "------------\n",
      "Fold 1\n",
      "Computing the cosine similarity matrix...\n",
      "Done computing similarity matrix.\n",
      "RMSE: 1.8572\n",
      "MAE:  1.4720\n",
      "------------\n",
      "Fold 2\n",
      "Computing the cosine similarity matrix...\n",
      "Done computing similarity matrix.\n",
      "RMSE: 1.8363\n",
      "MAE:  1.4520\n",
      "------------\n",
      "Fold 3\n",
      "Computing the cosine similarity matrix...\n",
      "Done computing similarity matrix.\n",
      "RMSE: 1.8640\n",
      "MAE:  1.4773\n",
      "------------\n",
      "------------\n",
      "Mean RMSE: 1.8525\n",
      "Mean MAE : 1.4671\n",
      "------------\n",
      "------------\n"
     ]
    },
    {
     "data": {
      "text/plain": [
       "CaseInsensitiveDefaultDict(list,\n",
       "                           {'rmse': [1.8572423095064823,\n",
       "                             1.836326067673651,\n",
       "                             1.863984436322746],\n",
       "                            'mae': [1.4720066362603759,\n",
       "                             1.4520041531506958,\n",
       "                             1.4772778761014482]})"
      ]
     },
     "execution_count": 224,
     "metadata": {},
     "output_type": "execute_result"
    }
   ],
   "source": [
    "data1.split(n_folds=3)\n",
    "surprise.evaluate(knnbasic,data1)"
   ]
  },
  {
   "cell_type": "markdown",
   "metadata": {},
   "source": [
    "###### Now its time to apply gridsearch for the best parameters"
   ]
  },
  {
   "cell_type": "code",
   "execution_count": 225,
   "metadata": {},
   "outputs": [],
   "source": [
    "param_grid={'k':[10,20,30,40,50],'sim_options':{'name':['msd','cosine'],'user_based':[True]}}"
   ]
  },
  {
   "cell_type": "code",
   "execution_count": 226,
   "metadata": {},
   "outputs": [],
   "source": [
    "algo=knns.KNNWithMeans"
   ]
  },
  {
   "cell_type": "code",
   "execution_count": 227,
   "metadata": {},
   "outputs": [],
   "source": [
    "grid_search=surprise.GridSearch(algo,param_grid=param_grid,measures=['RMSE','MAE'])"
   ]
  },
  {
   "cell_type": "code",
   "execution_count": 228,
   "metadata": {},
   "outputs": [
    {
     "name": "stdout",
     "output_type": "stream",
     "text": [
      "Running grid search for the following parameter combinations:\n",
      "{'k': 10, 'sim_options': {'name': 'msd', 'user_based': True}}\n",
      "{'k': 10, 'sim_options': {'name': 'cosine', 'user_based': True}}\n",
      "{'k': 20, 'sim_options': {'name': 'msd', 'user_based': True}}\n",
      "{'k': 20, 'sim_options': {'name': 'cosine', 'user_based': True}}\n",
      "{'k': 30, 'sim_options': {'name': 'msd', 'user_based': True}}\n",
      "{'k': 30, 'sim_options': {'name': 'cosine', 'user_based': True}}\n",
      "{'k': 40, 'sim_options': {'name': 'msd', 'user_based': True}}\n",
      "{'k': 40, 'sim_options': {'name': 'cosine', 'user_based': True}}\n",
      "{'k': 50, 'sim_options': {'name': 'msd', 'user_based': True}}\n",
      "{'k': 50, 'sim_options': {'name': 'cosine', 'user_based': True}}\n",
      "Computing the msd similarity matrix...\n",
      "Done computing similarity matrix.\n",
      "Computing the msd similarity matrix...\n",
      "Done computing similarity matrix.\n",
      "Computing the msd similarity matrix...\n",
      "Done computing similarity matrix.\n",
      "Computing the cosine similarity matrix...\n",
      "Done computing similarity matrix.\n",
      "Computing the cosine similarity matrix...\n",
      "Done computing similarity matrix.\n",
      "Computing the cosine similarity matrix...\n",
      "Done computing similarity matrix.\n",
      "Computing the msd similarity matrix...\n",
      "Done computing similarity matrix.\n",
      "Computing the msd similarity matrix...\n",
      "Done computing similarity matrix.\n",
      "Computing the msd similarity matrix...\n",
      "Done computing similarity matrix.\n",
      "Computing the cosine similarity matrix...\n",
      "Done computing similarity matrix.\n",
      "Computing the cosine similarity matrix...\n",
      "Done computing similarity matrix.\n",
      "Computing the cosine similarity matrix...\n",
      "Done computing similarity matrix.\n",
      "Computing the msd similarity matrix...\n",
      "Done computing similarity matrix.\n",
      "Computing the msd similarity matrix...\n",
      "Done computing similarity matrix.\n",
      "Computing the msd similarity matrix...\n",
      "Done computing similarity matrix.\n",
      "Computing the cosine similarity matrix...\n",
      "Done computing similarity matrix.\n",
      "Computing the cosine similarity matrix...\n",
      "Done computing similarity matrix.\n",
      "Computing the cosine similarity matrix...\n",
      "Done computing similarity matrix.\n",
      "Computing the msd similarity matrix...\n",
      "Done computing similarity matrix.\n",
      "Computing the msd similarity matrix...\n",
      "Done computing similarity matrix.\n",
      "Computing the msd similarity matrix...\n",
      "Done computing similarity matrix.\n",
      "Computing the cosine similarity matrix...\n",
      "Done computing similarity matrix.\n",
      "Computing the cosine similarity matrix...\n",
      "Done computing similarity matrix.\n",
      "Computing the cosine similarity matrix...\n",
      "Done computing similarity matrix.\n",
      "Computing the msd similarity matrix...\n",
      "Done computing similarity matrix.\n",
      "Computing the msd similarity matrix...\n",
      "Done computing similarity matrix.\n",
      "Computing the msd similarity matrix...\n",
      "Done computing similarity matrix.\n",
      "Computing the cosine similarity matrix...\n",
      "Done computing similarity matrix.\n",
      "Computing the cosine similarity matrix...\n",
      "Done computing similarity matrix.\n",
      "Computing the cosine similarity matrix...\n",
      "Done computing similarity matrix.\n",
      "Resulsts:\n",
      "{'k': 10, 'sim_options': {'name': 'msd', 'user_based': True}}\n",
      "{'RMSE': 1.852631742065091, 'MAE': 1.4672131138887305}\n",
      "----------\n",
      "{'k': 10, 'sim_options': {'name': 'cosine', 'user_based': True}}\n",
      "{'RMSE': 1.85251760450096, 'MAE': 1.4670962218375065}\n",
      "----------\n",
      "{'k': 20, 'sim_options': {'name': 'msd', 'user_based': True}}\n",
      "{'RMSE': 1.852631742065091, 'MAE': 1.4672131138887305}\n",
      "----------\n",
      "{'k': 20, 'sim_options': {'name': 'cosine', 'user_based': True}}\n",
      "{'RMSE': 1.85251760450096, 'MAE': 1.4670962218375065}\n",
      "----------\n",
      "{'k': 30, 'sim_options': {'name': 'msd', 'user_based': True}}\n",
      "{'RMSE': 1.852631742065091, 'MAE': 1.4672131138887305}\n",
      "----------\n",
      "{'k': 30, 'sim_options': {'name': 'cosine', 'user_based': True}}\n",
      "{'RMSE': 1.85251760450096, 'MAE': 1.4670962218375065}\n",
      "----------\n",
      "{'k': 40, 'sim_options': {'name': 'msd', 'user_based': True}}\n",
      "{'RMSE': 1.852631742065091, 'MAE': 1.4672131138887305}\n",
      "----------\n",
      "{'k': 40, 'sim_options': {'name': 'cosine', 'user_based': True}}\n",
      "{'RMSE': 1.85251760450096, 'MAE': 1.4670962218375065}\n",
      "----------\n",
      "{'k': 50, 'sim_options': {'name': 'msd', 'user_based': True}}\n",
      "{'RMSE': 1.852631742065091, 'MAE': 1.4672131138887305}\n",
      "----------\n",
      "{'k': 50, 'sim_options': {'name': 'cosine', 'user_based': True}}\n",
      "{'RMSE': 1.85251760450096, 'MAE': 1.4670962218375065}\n",
      "----------\n"
     ]
    }
   ],
   "source": [
    "grid_search.evaluate(data1)"
   ]
  },
  {
   "cell_type": "code",
   "execution_count": 229,
   "metadata": {},
   "outputs": [
    {
     "name": "stdout",
     "output_type": "stream",
     "text": [
      "{'k': 10, 'sim_options': {'name': 'cosine', 'user_based': True}}\n",
      "{'k': 10, 'sim_options': {'name': 'cosine', 'user_based': True}}\n"
     ]
    }
   ],
   "source": [
    "print(grid_search.best_params['RMSE'])\n",
    "print(grid_search.best_params['MAE'])"
   ]
  },
  {
   "cell_type": "code",
   "execution_count": 230,
   "metadata": {},
   "outputs": [
    {
     "name": "stdout",
     "output_type": "stream",
     "text": [
      "1.85251760450096\n",
      "1.4670962218375065\n"
     ]
    }
   ],
   "source": [
    "print(grid_search.best_score['RMSE'])\n",
    "print(grid_search.best_score['MAE'])"
   ]
  },
  {
   "cell_type": "code",
   "execution_count": 231,
   "metadata": {},
   "outputs": [
    {
     "data": {
      "text/html": [
       "<div>\n",
       "<style scoped>\n",
       "    .dataframe tbody tr th:only-of-type {\n",
       "        vertical-align: middle;\n",
       "    }\n",
       "\n",
       "    .dataframe tbody tr th {\n",
       "        vertical-align: top;\n",
       "    }\n",
       "\n",
       "    .dataframe thead th {\n",
       "        text-align: right;\n",
       "    }\n",
       "</style>\n",
       "<table border=\"1\" class=\"dataframe\">\n",
       "  <thead>\n",
       "    <tr style=\"text-align: right;\">\n",
       "      <th></th>\n",
       "      <th>user</th>\n",
       "      <th>item</th>\n",
       "      <th>rating</th>\n",
       "    </tr>\n",
       "  </thead>\n",
       "  <tbody>\n",
       "    <tr>\n",
       "      <th>584624</th>\n",
       "      <td>141073</td>\n",
       "      <td>0373833598</td>\n",
       "      <td>6</td>\n",
       "    </tr>\n",
       "    <tr>\n",
       "      <th>907814</th>\n",
       "      <td>220586</td>\n",
       "      <td>006000438X</td>\n",
       "      <td>8</td>\n",
       "    </tr>\n",
       "    <tr>\n",
       "      <th>91387</th>\n",
       "      <td>20265</td>\n",
       "      <td>0345323750</td>\n",
       "      <td>8</td>\n",
       "    </tr>\n",
       "    <tr>\n",
       "      <th>60294</th>\n",
       "      <td>12153</td>\n",
       "      <td>0688013929</td>\n",
       "      <td>9</td>\n",
       "    </tr>\n",
       "    <tr>\n",
       "      <th>815161</th>\n",
       "      <td>198507</td>\n",
       "      <td>0375502025</td>\n",
       "      <td>7</td>\n",
       "    </tr>\n",
       "  </tbody>\n",
       "</table>\n",
       "</div>"
      ],
      "text/plain": [
       "          user        item  rating\n",
       "584624  141073  0373833598  6     \n",
       "907814  220586  006000438X  8     \n",
       "91387   20265   0345323750  8     \n",
       "60294   12153   0688013929  9     \n",
       "815161  198507  0375502025  7     "
      ]
     },
     "execution_count": 231,
     "metadata": {},
     "output_type": "execute_result"
    }
   ],
   "source": [
    "data.head()"
   ]
  },
  {
   "cell_type": "code",
   "execution_count": 232,
   "metadata": {},
   "outputs": [
    {
     "data": {
      "text/plain": [
       "0"
      ]
     },
     "execution_count": 232,
     "metadata": {},
     "output_type": "execute_result"
    }
   ],
   "source": [
    "data1_train.to_inner_uid(141073)"
   ]
  },
  {
   "cell_type": "code",
   "execution_count": 233,
   "metadata": {},
   "outputs": [
    {
     "data": {
      "text/plain": [
       "[1, 2, 3, 4, 5, 6, 7, 8, 9, 10]"
      ]
     },
     "execution_count": 233,
     "metadata": {},
     "output_type": "execute_result"
    }
   ],
   "source": [
    "knnbasic.get_neighbors(data1_train.to_inner_uid(141073),10)"
   ]
  },
  {
   "cell_type": "code",
   "execution_count": 234,
   "metadata": {},
   "outputs": [
    {
     "name": "stdout",
     "output_type": "stream",
     "text": [
      "72771\n",
      "239584\n",
      "83637\n",
      "50526\n",
      "243991\n",
      "207291\n",
      "224764\n",
      "136071\n",
      "49144\n",
      "17507\n"
     ]
    }
   ],
   "source": [
    "for i in [12, 887, 1317, 1326, 1563, 1626, 1899, 1919, 2211, 2772]:\n",
    "    print(data1_train.to_raw_uid(i))"
   ]
  },
  {
   "cell_type": "code",
   "execution_count": 235,
   "metadata": {},
   "outputs": [
    {
     "data": {
      "text/plain": [
       "1"
      ]
     },
     "execution_count": 235,
     "metadata": {},
     "output_type": "execute_result"
    }
   ],
   "source": [
    "data1_train.to_inner_iid('006000438X')"
   ]
  },
  {
   "cell_type": "code",
   "execution_count": 236,
   "metadata": {},
   "outputs": [
    {
     "data": {
      "text/plain": [
       "[70, 13464, 0, 2, 3, 4, 5, 6, 7, 8]"
      ]
     },
     "execution_count": 236,
     "metadata": {},
     "output_type": "execute_result"
    }
   ],
   "source": [
    "knnbasic.get_neighbors(data1_train.to_inner_iid('006000438X'),10)"
   ]
  },
  {
   "cell_type": "code",
   "execution_count": 237,
   "metadata": {},
   "outputs": [
    {
     "name": "stdout",
     "output_type": "stream",
     "text": [
      "0373833598\n",
      "0345323750\n",
      "0688013929\n",
      "0375502025\n",
      "0446610542\n",
      "0590477382\n",
      "0192816705\n",
      "0373825021\n",
      "0385334710\n",
      "0060158638\n"
     ]
    }
   ],
   "source": [
    "for i in [0, 2, 3, 4, 5, 6, 7, 8, 9, 10]:\n",
    "    print(data1_train.to_raw_iid(i))"
   ]
  },
  {
   "cell_type": "code",
   "execution_count": null,
   "metadata": {},
   "outputs": [],
   "source": []
  }
 ],
 "metadata": {
  "kernelspec": {
   "display_name": "Python 3",
   "language": "python",
   "name": "python3"
  },
  "language_info": {
   "codemirror_mode": {
    "name": "ipython",
    "version": 3
   },
   "file_extension": ".py",
   "mimetype": "text/x-python",
   "name": "python",
   "nbconvert_exporter": "python",
   "pygments_lexer": "ipython3",
   "version": "3.7.1"
  }
 },
 "nbformat": 4,
 "nbformat_minor": 2
}
